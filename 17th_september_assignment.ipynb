{
 "cells": [
  {
   "cell_type": "markdown",
   "id": "2d7106ec",
   "metadata": {},
   "source": [
    "For Loop"
   ]
  },
  {
   "cell_type": "markdown",
   "id": "0c2e087d",
   "metadata": {},
   "source": [
    "1. Write a Python program to print numbers from 1 to 10 using a for loop."
   ]
  },
  {
   "cell_type": "code",
   "execution_count": 1,
   "id": "7ef32dd6",
   "metadata": {},
   "outputs": [
    {
     "name": "stdout",
     "output_type": "stream",
     "text": [
      "1\n",
      "2\n",
      "3\n",
      "4\n",
      "5\n",
      "6\n",
      "7\n",
      "8\n",
      "9\n",
      "10\n"
     ]
    }
   ],
   "source": [
    "for i in range(1,11):\n",
    "    print(i)"
   ]
  },
  {
   "cell_type": "markdown",
   "id": "9883df46",
   "metadata": {},
   "source": [
    "2. Explain the difference between a for loop and a while loop in Python."
   ]
  },
  {
   "cell_type": "code",
   "execution_count": 2,
   "id": "c5214f97",
   "metadata": {},
   "outputs": [],
   "source": [
    "#A for loop is used when you want to iterate over a sequence for a known number of times.\n",
    "#It's ideal for working with lists, strings, or other iterable objects.\n",
    "#A while loop is used when you want to repeat a block of code as long as a certain condition is true.\n",
    "#It's suitable when you don't know in advance how many iterations are needed and want to continue until a specific condition is met."
   ]
  },
  {
   "cell_type": "markdown",
   "id": "453217e0",
   "metadata": {},
   "source": [
    "3. Write a Python program to calculate the sum of all numbers from 1 to 100 using a for loop."
   ]
  },
  {
   "cell_type": "code",
   "execution_count": 7,
   "id": "f370dc94",
   "metadata": {},
   "outputs": [
    {
     "name": "stdout",
     "output_type": "stream",
     "text": [
      "The sum of numbers from 1 to 100 is: 5050\n"
     ]
    }
   ],
   "source": [
    "total = 0\n",
    "for number in range(1, 101):  # The range function generates numbers from 1 to 100\n",
    "    total += number\n",
    "\n",
    "print(\"The sum of numbers from 1 to 100 is:\", total)\n",
    "\n",
    "        "
   ]
  },
  {
   "cell_type": "markdown",
   "id": "ae4612db",
   "metadata": {},
   "source": [
    "4. How do you iterate through a list using a for loop in Python"
   ]
  },
  {
   "cell_type": "code",
   "execution_count": 9,
   "id": "c9a2e21e",
   "metadata": {},
   "outputs": [
    {
     "name": "stdout",
     "output_type": "stream",
     "text": [
      "1\n",
      "2\n",
      "3\n",
      "4\n",
      "5\n"
     ]
    }
   ],
   "source": [
    "my_list = [1, 2, 3, 4, 5]\n",
    "\n",
    "for element in my_list:\n",
    "    # Code to be executed for each element in the list\n",
    "    print(element)\n",
    "#we have used my_list here and we will iterate over it using for loop using above code.\n",
    "#element will take value in list one by one and execute the code in loop and then proceed with next value.\n",
    "#in this way we will iterate."
   ]
  },
  {
   "cell_type": "markdown",
   "id": "0356b48f",
   "metadata": {},
   "source": [
    "5. Write a Python program to find the product of all elements in a list using a for loop."
   ]
  },
  {
   "cell_type": "code",
   "execution_count": 10,
   "id": "8572878f",
   "metadata": {},
   "outputs": [
    {
     "name": "stdout",
     "output_type": "stream",
     "text": [
      "720\n"
     ]
    }
   ],
   "source": [
    "list1 = [1,2,3,4,5,6]\n",
    "product = 1\n",
    "for i in list1:\n",
    "    product = product*i\n",
    "\n",
    "print(product)"
   ]
  },
  {
   "cell_type": "markdown",
   "id": "42cebb17",
   "metadata": {},
   "source": [
    "6.Create a Python program that prints all even numbers from 1 to 20 using a for loop."
   ]
  },
  {
   "cell_type": "code",
   "execution_count": 11,
   "id": "931a8212",
   "metadata": {},
   "outputs": [
    {
     "name": "stdout",
     "output_type": "stream",
     "text": [
      "[2, 4, 6, 8, 10, 12, 14, 16, 18, 20]\n"
     ]
    }
   ],
   "source": [
    "list1 = []\n",
    "for i in range(1,21):\n",
    "    if(i%2==0):\n",
    "        list1.append(i)\n",
    "\n",
    "print(list1)"
   ]
  },
  {
   "cell_type": "markdown",
   "id": "9f6e8757",
   "metadata": {},
   "source": [
    "7.Write a Python program that calculates the factorial of a number using a for loop."
   ]
  },
  {
   "cell_type": "code",
   "execution_count": 15,
   "id": "682bc785",
   "metadata": {},
   "outputs": [
    {
     "name": "stdout",
     "output_type": "stream",
     "text": [
      "enter the number: 5\n",
      "120\n"
     ]
    }
   ],
   "source": [
    "factorial = 1\n",
    "num = int(input(\"enter the number: \"))\n",
    "for i in range(1,num+1):\n",
    "    factorial = factorial*i\n",
    "\n",
    "print(factorial) \n",
    "    "
   ]
  },
  {
   "cell_type": "markdown",
   "id": "e58231f1",
   "metadata": {},
   "source": [
    "8.How can you iterate through the characters of a string using a for loop in Python?"
   ]
  },
  {
   "cell_type": "code",
   "execution_count": 16,
   "id": "02ebfada",
   "metadata": {},
   "outputs": [
    {
     "name": "stdout",
     "output_type": "stream",
     "text": [
      "H\n",
      "e\n",
      "l\n",
      "l\n",
      "o\n",
      ",\n",
      " \n",
      "W\n",
      "o\n",
      "r\n",
      "l\n",
      "d\n",
      "!\n"
     ]
    }
   ],
   "source": [
    "my_string = \"Hello, World!\"\n",
    "\n",
    "for character in my_string:\n",
    "    # Code to be executed for each character in the string\n",
    "    print(character)\n",
    "#we can iterate through the characters of a string in Python using a for loop by treating the string as a sequence of characters.\n",
    "#The loop will go through each character one by one, and you can perform operations on each character within the loop's block."
   ]
  },
  {
   "cell_type": "markdown",
   "id": "8c8077ab",
   "metadata": {},
   "source": [
    "9.Write a Python program to find the largest number in a list using a for loop.\n"
   ]
  },
  {
   "cell_type": "code",
   "execution_count": 20,
   "id": "31f4111f",
   "metadata": {},
   "outputs": [
    {
     "name": "stdout",
     "output_type": "stream",
     "text": [
      "9\n"
     ]
    }
   ],
   "source": [
    "list1 = [1,5,4,8,9,6]\n",
    "largest = list1[0]\n",
    "for i in list1:\n",
    "    if(i>largest):\n",
    "        largest = i\n",
    "\n",
    "print(largest)"
   ]
  },
  {
   "cell_type": "markdown",
   "id": "a285983d",
   "metadata": {},
   "source": [
    "10.Create a Python program that prints the Fibonacci sequence up to a specified limit using a for loop."
   ]
  },
  {
   "cell_type": "code",
   "execution_count": 3,
   "id": "9127e7fd",
   "metadata": {},
   "outputs": [
    {
     "name": "stdout",
     "output_type": "stream",
     "text": [
      "enter the limit: 6\n",
      "0 1 1 2 3 5 "
     ]
    }
   ],
   "source": [
    "#a fibonnaci sequence is in which a number is sum of previous two numbers\n",
    "#for ex: first 5 fibonacci numbers are 0,1,1,2,3\n",
    "a = 0\n",
    "b = 1\n",
    "limit = int(input(\"enter the limit: \"))\n",
    "if(limit<= 0):\n",
    "    print(\"enter limit greater then 0\")\n",
    "else:\n",
    "    for i in range(limit):\n",
    "        print(a,end = \" \")\n",
    "        a,b = b,a+b\n",
    "    "
   ]
  },
  {
   "cell_type": "markdown",
   "id": "2ad2a28d",
   "metadata": {},
   "source": [
    "11. Write a Python program to count the number of vowels in a given string using a for loop.\n"
   ]
  },
  {
   "cell_type": "code",
   "execution_count": 6,
   "id": "2103fe05",
   "metadata": {},
   "outputs": [
    {
     "name": "stdout",
     "output_type": "stream",
     "text": [
      "enter the string: divyansh\n",
      "['i', 'a']\n"
     ]
    },
    {
     "data": {
      "text/plain": [
       "2"
      ]
     },
     "execution_count": 6,
     "metadata": {},
     "output_type": "execute_result"
    }
   ],
   "source": [
    "vowels = [\"a\",\"e\",\"i\",\"o\",\"u\"]\n",
    "string = input(\"enter the string: \")\n",
    "list1 = []\n",
    "for i in string:\n",
    "    for j in vowels:\n",
    "        if(i==j):\n",
    "            list1.append(i)\n",
    "                    \n",
    "print(list1)\n",
    "len(list1)"
   ]
  },
  {
   "cell_type": "markdown",
   "id": "cc777a22",
   "metadata": {},
   "source": [
    "12.Create a Python program that generates a multiplication table for a given number using a for loop."
   ]
  },
  {
   "cell_type": "code",
   "execution_count": 9,
   "id": "f52778cb",
   "metadata": {},
   "outputs": [
    {
     "name": "stdout",
     "output_type": "stream",
     "text": [
      "enter the number: 7\n",
      "7*1 =  7\n",
      "7*2 =  14\n",
      "7*3 =  21\n",
      "7*4 =  28\n",
      "7*5 =  35\n",
      "7*6 =  42\n",
      "7*7 =  49\n",
      "7*8 =  56\n",
      "7*9 =  63\n",
      "7*10 =  70\n"
     ]
    }
   ],
   "source": [
    "num = int(input(\"enter the number: \"))\n",
    "for i in range(1,11):\n",
    "    result = num*i\n",
    "    print(f\"{num}*{i} = \",result)\n",
    "    "
   ]
  },
  {
   "cell_type": "markdown",
   "id": "6ac35786",
   "metadata": {},
   "source": [
    "13.Write a Python program to reverse a list using a for loop.\n"
   ]
  },
  {
   "cell_type": "code",
   "execution_count": 11,
   "id": "b3d00f87",
   "metadata": {},
   "outputs": [
    {
     "data": {
      "text/plain": [
       "[6, 5, 4, 3, 2, 1]"
      ]
     },
     "execution_count": 11,
     "metadata": {},
     "output_type": "execute_result"
    }
   ],
   "source": [
    "list1 = [1,2,3,4,5,6]\n",
    "list1[5: :-1]"
   ]
  },
  {
   "cell_type": "markdown",
   "id": "a4984040",
   "metadata": {},
   "source": [
    "14.Write a Python program to find the common elements between two lists using a for loop."
   ]
  },
  {
   "cell_type": "code",
   "execution_count": 12,
   "id": "eead1707",
   "metadata": {},
   "outputs": [
    {
     "name": "stdout",
     "output_type": "stream",
     "text": [
      "[1, 2, 5]\n"
     ]
    }
   ],
   "source": [
    "list1 = [1,2,5,4,8]\n",
    "list2 = [7,2,5,9,1]\n",
    "final_result = []\n",
    "for i in list1:\n",
    "    for j in list2:\n",
    "        if(i==j):\n",
    "            final_result.append(i)\n",
    "        \n",
    "print(final_result)"
   ]
  },
  {
   "cell_type": "markdown",
   "id": "10630940",
   "metadata": {},
   "source": [
    "15.Explain how to use a for loop to iterate through the keys and values of a dictionary in Python."
   ]
  },
  {
   "cell_type": "code",
   "execution_count": 13,
   "id": "98800299",
   "metadata": {},
   "outputs": [
    {
     "name": "stdout",
     "output_type": "stream",
     "text": [
      "Key: a, Value: 1\n",
      "Key: b, Value: 2\n",
      "Key: c, Value: 3\n"
     ]
    }
   ],
   "source": [
    "my_dict = {\"a\": 1, \"b\": 2, \"c\": 3}\n",
    "\n",
    "for key, value in my_dict.items():\n",
    "    print(f\"Key: {key}, Value: {value}\")\n",
    "#This code iterates through the dictionary my_dict and prints each key and its corresponding value on each iteration.\n"
   ]
  },
  {
   "cell_type": "markdown",
   "id": "9f4534b3",
   "metadata": {},
   "source": [
    "16.Write a Python program to find the GCD (Greatest Common Divisor) of two numbers using a for loop."
   ]
  },
  {
   "cell_type": "code",
   "execution_count": 14,
   "id": "f4759281",
   "metadata": {},
   "outputs": [
    {
     "name": "stdout",
     "output_type": "stream",
     "text": [
      "Enter the first number: 5\n",
      "Enter the second number: 15\n",
      "The GCD of 5 and 15 is 5\n"
     ]
    }
   ],
   "source": [
    "def gcd(a, b):\n",
    "    while b:\n",
    "        a, b = b, a % b\n",
    "    return a\n",
    "\n",
    "# Input two numbers from the user\n",
    "num1 = int(input(\"Enter the first number: \"))\n",
    "num2 = int(input(\"Enter the second number: \"))\n",
    "\n",
    "# Call the gcd function to find the GCD\n",
    "result = gcd(num1, num2)\n",
    "\n",
    "print(f\"The GCD of {num1} and {num2} is {result}\")\n"
   ]
  },
  {
   "cell_type": "markdown",
   "id": "7fc861f3",
   "metadata": {},
   "source": [
    "17.Create a Python program that checks if a string is a palindrome using a for loop.\n"
   ]
  },
  {
   "cell_type": "code",
   "execution_count": 18,
   "id": "12585e91",
   "metadata": {},
   "outputs": [
    {
     "name": "stdout",
     "output_type": "stream",
     "text": [
      "enter the string: mom\n",
      "string is a palindrome\n"
     ]
    }
   ],
   "source": [
    "#palindrome is a word or sequence which looks same from forward and backward.\n",
    "#example: mom , naman, [1,2,3,4] [4,3,2,1]\n",
    "string = input(\"enter the string: \")\n",
    "n = len(string)\n",
    "reverse_string = string[n: :-1]\n",
    "if(string == reverse_string):\n",
    "    print(\"string is a palindrome\")\n",
    "else:\n",
    "    print(\"string is not a palindrome\")\n",
    "    \n",
    "    "
   ]
  },
  {
   "cell_type": "markdown",
   "id": "6786e44e",
   "metadata": {},
   "source": [
    "18.Write a Python program to remove duplicates from a list using a for loop.\n"
   ]
  },
  {
   "cell_type": "code",
   "execution_count": 25,
   "id": "f7296188",
   "metadata": {},
   "outputs": [
    {
     "name": "stdout",
     "output_type": "stream",
     "text": [
      "Original List: [1, 2, 2, 3, 4, 4, 5, 6, 6]\n",
      "List with Duplicates Removed: [1, 2, 3, 4, 5, 6]\n"
     ]
    }
   ],
   "source": [
    "def remove_duplicates(input_list):\n",
    "    unique_list = []\n",
    "    for item in input_list:\n",
    "        if item not in unique_list:\n",
    "            unique_list.append(item)\n",
    "    return unique_list\n",
    "\n",
    "# Example usage\n",
    "original_list = [1, 2, 2, 3, 4, 4, 5, 6, 6]\n",
    "result_list = remove_duplicates(original_list)\n",
    "\n",
    "print(\"Original List:\", original_list)\n",
    "print(\"List with Duplicates Removed:\", result_list)\n"
   ]
  },
  {
   "cell_type": "markdown",
   "id": "cdc858cb",
   "metadata": {},
   "source": [
    "19.Create a Python program that counts the number of words in a sentence using a for loop.\n"
   ]
  },
  {
   "cell_type": "code",
   "execution_count": 26,
   "id": "3cbc8558",
   "metadata": {},
   "outputs": [
    {
     "name": "stdout",
     "output_type": "stream",
     "text": [
      "Enter a sentence: hello world\n",
      "The number of words in the sentence is: 2\n"
     ]
    }
   ],
   "source": [
    "def count_words(sentence):\n",
    "    # Initialize a variable to keep track of the word count\n",
    "    word_count = 0\n",
    "    \n",
    "    # Iterate through the characters in the sentence\n",
    "    for char in sentence:\n",
    "        # Check for word boundaries (space is used as a word separator)\n",
    "        if char == ' ':\n",
    "            word_count += 1\n",
    "    \n",
    "    # Add 1 to the word count to account for the last word\n",
    "    word_count += 1\n",
    "    \n",
    "    return word_count\n",
    "\n",
    "# Input a sentence from the user\n",
    "sentence = input(\"Enter a sentence: \")\n",
    "\n",
    "# Call the count_words function to count the words\n",
    "result = count_words(sentence)\n",
    "\n",
    "print(f\"The number of words in the sentence is: {result}\")\n"
   ]
  },
  {
   "cell_type": "markdown",
   "id": "cd809cce",
   "metadata": {},
   "source": [
    "20.Write a Python program to find the sum of all odd numbers from 1 to 50 using a for loop.\n"
   ]
  },
  {
   "cell_type": "code",
   "execution_count": 27,
   "id": "c4e49964",
   "metadata": {},
   "outputs": [
    {
     "name": "stdout",
     "output_type": "stream",
     "text": [
      "625\n"
     ]
    }
   ],
   "source": [
    "list1 = []\n",
    "for i in range(1,51):\n",
    "    if(i%2 !=0):\n",
    "        list1.append(i)\n",
    "sum = 0\n",
    "for i in list1:\n",
    "    sum = sum+i\n",
    "\n",
    "print(sum)"
   ]
  },
  {
   "cell_type": "markdown",
   "id": "1781236d",
   "metadata": {},
   "source": [
    "21.Write a Python program that checks if a given year is a leap year using a for loop.\n"
   ]
  },
  {
   "cell_type": "code",
   "execution_count": 28,
   "id": "8e8c7c5e",
   "metadata": {},
   "outputs": [
    {
     "name": "stdout",
     "output_type": "stream",
     "text": [
      "Enter a year: 1996\n",
      "1996 is a leap year.\n"
     ]
    }
   ],
   "source": [
    "def is_leap_year(year):\n",
    "    if (year % 4 == 0 and year % 100 != 0) or (year % 400 == 0):\n",
    "        return True\n",
    "    else:\n",
    "        return False\n",
    "\n",
    "# Input a year from the user\n",
    "year = int(input(\"Enter a year: \"))\n",
    "\n",
    "# Call the is_leap_year function to check if it's a leap year\n",
    "if is_leap_year(year):\n",
    "    print(f\"{year} is a leap year.\")\n",
    "else:\n",
    "    print(f\"{year} is not a leap year.\")\n"
   ]
  },
  {
   "cell_type": "markdown",
   "id": "de7bc80f",
   "metadata": {},
   "source": [
    "22.Create a Python program that calculates the square root of a number using a for loop.\n"
   ]
  },
  {
   "cell_type": "code",
   "execution_count": 29,
   "id": "01faf465",
   "metadata": {},
   "outputs": [
    {
     "name": "stdout",
     "output_type": "stream",
     "text": [
      "Enter a number: 64\n",
      "The approximate square root of 64.0 is 8.000000\n"
     ]
    }
   ],
   "source": [
    "def calculate_square_root(number, iterations=1000):\n",
    "    if number < 0:\n",
    "        return \"Cannot calculate the square root of a negative number\"\n",
    "    \n",
    "    guess = number / 2  # Start with an initial guess (e.g., half of the number)\n",
    "    \n",
    "    for _ in range(iterations):\n",
    "        guess = 0.5 * (guess + number / guess)\n",
    "    \n",
    "    return guess\n",
    "\n",
    "# Input a number from the user\n",
    "number = float(input(\"Enter a number: \"))\n",
    "\n",
    "# Call the calculate_square_root function to approximate the square root\n",
    "result = calculate_square_root(number)\n",
    "\n",
    "print(f\"The approximate square root of {number} is {result:.6f}\")\n"
   ]
  },
  {
   "cell_type": "markdown",
   "id": "016a3745",
   "metadata": {},
   "source": [
    "23.Write a Python program to find the LCM (Least Common Multiple) of two numbers using a for loop.\n"
   ]
  },
  {
   "cell_type": "code",
   "execution_count": 30,
   "id": "48b0681d",
   "metadata": {},
   "outputs": [
    {
     "name": "stdout",
     "output_type": "stream",
     "text": [
      "Enter the first number: 75\n",
      "Enter the second number: 5\n",
      "The LCM of 75 and 5 is 75\n"
     ]
    }
   ],
   "source": [
    "# Function to calculate GCD (Greatest Common Divisor)\n",
    "def gcd(a, b):\n",
    "    while b:\n",
    "        a, b = b, a % b\n",
    "    return a\n",
    "\n",
    "# Function to calculate LCM (Least Common Multiple)\n",
    "def lcm(a, b):\n",
    "    return (a * b) // gcd(a, b)\n",
    "\n",
    "# Input two numbers from the user\n",
    "num1 = int(input(\"Enter the first number: \"))\n",
    "num2 = int(input(\"Enter the second number: \"))\n",
    "\n",
    "# Call the lcm function to find the LCM\n",
    "result = lcm(num1, num2)\n",
    "\n",
    "print(f\"The LCM of {num1} and {num2} is {result}\")\n"
   ]
  },
  {
   "cell_type": "markdown",
   "id": "05651740",
   "metadata": {},
   "source": [
    "IF-ELSE"
   ]
  },
  {
   "cell_type": "markdown",
   "id": "b8290e50",
   "metadata": {},
   "source": [
    "1.Write a Python program to check if a number is positive, negative, or zero using an if-else statement."
   ]
  },
  {
   "cell_type": "code",
   "execution_count": 31,
   "id": "1f94f7f9",
   "metadata": {},
   "outputs": [
    {
     "name": "stdout",
     "output_type": "stream",
     "text": [
      "Enter a number: 5\n",
      "The number is positive.\n"
     ]
    }
   ],
   "source": [
    "# Input a number from the user\n",
    "number = float(input(\"Enter a number: \"))\n",
    "\n",
    "# Check if the number is positive, negative, or zero\n",
    "if number > 0:\n",
    "    print(\"The number is positive.\")\n",
    "elif number < 0:\n",
    "    print(\"The number is negative.\")\n",
    "else:\n",
    "    print(\"The number is zero.\")\n"
   ]
  },
  {
   "cell_type": "markdown",
   "id": "e96c0b81",
   "metadata": {},
   "source": [
    "2.Create a Python program that checks if a given number is even or odd using an if-else statement.\n"
   ]
  },
  {
   "cell_type": "code",
   "execution_count": 32,
   "id": "d04eb657",
   "metadata": {},
   "outputs": [
    {
     "name": "stdout",
     "output_type": "stream",
     "text": [
      "Enter a number: 6\n",
      "6 is an even number.\n"
     ]
    }
   ],
   "source": [
    "# Input a number from the user\n",
    "number = int(input(\"Enter a number: \"))\n",
    "\n",
    "# Check if the number is even or odd\n",
    "if number % 2 == 0:\n",
    "    print(f\"{number} is an even number.\")\n",
    "else:\n",
    "    print(f\"{number} is an odd number.\")\n",
    "\n",
    "    "
   ]
  },
  {
   "cell_type": "markdown",
   "id": "27106af2",
   "metadata": {},
   "source": [
    "3.How can you use nested if-else statements in Python, and provide an example?\n"
   ]
  },
  {
   "cell_type": "code",
   "execution_count": 36,
   "id": "5a0dfa40",
   "metadata": {},
   "outputs": [],
   "source": [
    "#if condition1:\n",
    "    # Code to execute if condition1 is True\n",
    "#    if nested_condition1:\n",
    "        # Code to execute if both condition1 and nested_condition1 are True\n",
    "#    else:\n",
    "        # Code to execute if condition1 is True but nested_condition1 is False\n",
    "#else:\n",
    "    # Code to execute if condition1 is False\n",
    "#Nested if-else statements are used in Python to create a more complex decision-making structure."
   ]
  },
  {
   "cell_type": "markdown",
   "id": "164ad378",
   "metadata": {},
   "source": [
    "4.Write a Python program to determine the largest of three numbers using if-else.\n"
   ]
  },
  {
   "cell_type": "code",
   "execution_count": 37,
   "id": "4d988b75",
   "metadata": {},
   "outputs": [
    {
     "name": "stdout",
     "output_type": "stream",
     "text": [
      "Enter the first number: 55\n",
      "Enter the second number: 45\n",
      "Enter the third number: 25\n",
      "The largest number is 55.0\n"
     ]
    }
   ],
   "source": [
    "# Input three numbers from the user\n",
    "num1 = float(input(\"Enter the first number: \"))\n",
    "num2 = float(input(\"Enter the second number: \"))\n",
    "num3 = float(input(\"Enter the third number: \"))\n",
    "\n",
    "# Determine the largest number using if-else statements\n",
    "if num1 >= num2 and num1 >= num3:\n",
    "    largest = num1\n",
    "elif num2 >= num1 and num2 >= num3:\n",
    "    largest = num2\n",
    "else:\n",
    "    largest = num3\n",
    "\n",
    "# Print the largest number\n",
    "print(f\"The largest number is {largest}\")\n"
   ]
  },
  {
   "cell_type": "markdown",
   "id": "d59302b4",
   "metadata": {},
   "source": [
    "5.Write a Python program that calculates the absolute value of a number using if-else.\n"
   ]
  },
  {
   "cell_type": "code",
   "execution_count": 38,
   "id": "94fd1762",
   "metadata": {},
   "outputs": [
    {
     "name": "stdout",
     "output_type": "stream",
     "text": [
      "Enter a number: -5\n",
      "The absolute value of -5.0 is 5.0\n"
     ]
    }
   ],
   "source": [
    "# Input a number from the user\n",
    "num = float(input(\"Enter a number: \"))\n",
    "\n",
    "# Calculate the absolute value using if-else statements\n",
    "if num < 0:\n",
    "    abs_value = -num  # Negate the number to make it positive\n",
    "else:\n",
    "    abs_value = num\n",
    "\n",
    "# Print the absolute value\n",
    "print(f\"The absolute value of {num} is {abs_value}\")\n"
   ]
  },
  {
   "cell_type": "markdown",
   "id": "e2f7e8aa",
   "metadata": {},
   "source": [
    "6. Create a Python program that checks if a given character is a vowel or consonant using if-else.\n"
   ]
  },
  {
   "cell_type": "code",
   "execution_count": 1,
   "id": "acd90416",
   "metadata": {},
   "outputs": [
    {
     "name": "stdout",
     "output_type": "stream",
     "text": [
      "Enter a character: e\n",
      "e is a vowel.\n"
     ]
    }
   ],
   "source": [
    "# Input a character from the user\n",
    "char = input(\"Enter a character: \")\n",
    "\n",
    "# Ensure that the input is a single character\n",
    "if len(char) == 1:\n",
    "    # Convert the character to lowercase to handle both uppercase and lowercase input\n",
    "    char = char.lower()\n",
    "\n",
    "    # Check if the character is a vowel or a consonant\n",
    "    if char in \"aeiou\":\n",
    "        print(f\"{char} is a vowel.\")\n",
    "    else:\n",
    "        print(f\"{char} is a consonant.\")\n",
    "else:\n",
    "    print(\"Please enter a single character.\")\n"
   ]
  },
  {
   "cell_type": "markdown",
   "id": "33d6559e",
   "metadata": {},
   "source": [
    "7.Write a Python program to determine if a user is eligible to vote based on their age using if-else."
   ]
  },
  {
   "cell_type": "code",
   "execution_count": 1,
   "id": "3b47bb38",
   "metadata": {},
   "outputs": [
    {
     "name": "stdout",
     "output_type": "stream",
     "text": [
      "Enter your age:19\n",
      "You are eligible to vote.\n"
     ]
    }
   ],
   "source": [
    "# Get the user's age as input\n",
    "age = int(input(\"Enter your age:\"))\n",
    "\n",
    "# Check if the user is eligible to vote\n",
    "if age >= 18:\n",
    "    print(\"You are eligible to vote.\")\n",
    "else:\n",
    "    print(\"You are not eligible to vote.\")\n"
   ]
  },
  {
   "cell_type": "markdown",
   "id": "20cdd2eb",
   "metadata": {},
   "source": [
    "8.Create a Python program that calculates the discount amount based on the purchase amount using if-else."
   ]
  },
  {
   "cell_type": "code",
   "execution_count": 2,
   "id": "2d4974ef",
   "metadata": {},
   "outputs": [
    {
     "name": "stdout",
     "output_type": "stream",
     "text": [
      "Enter the purchase amount: $1800\n",
      "You qualify for a 20% discount.\n",
      "Discount amount: $360.00\n",
      "Total amount to pay: $1440.00\n"
     ]
    }
   ],
   "source": [
    "# Get the purchase amount from the user\n",
    "purchase_amount = float(input(\"Enter the purchase amount: $\"))\n",
    "\n",
    "# Define discount rates\n",
    "discount_rate_10 = 0.10\n",
    "discount_rate_20 = 0.20\n",
    "\n",
    "# Initialize the discount amount\n",
    "discount_amount = 0\n",
    "\n",
    "# Check if the purchase amount qualifies for a discount\n",
    "if purchase_amount >= 100:\n",
    "    discount_amount = purchase_amount * discount_rate_20\n",
    "    discount_percentage = 20\n",
    "elif purchase_amount >= 50:\n",
    "    discount_amount = purchase_amount * discount_rate_10\n",
    "    discount_percentage = 10\n",
    "else:\n",
    "    discount_percentage = 0\n",
    "\n",
    "# Display the discount information\n",
    "if discount_percentage > 0:\n",
    "    print(f\"You qualify for a {discount_percentage}% discount.\")\n",
    "    print(f\"Discount amount: ${discount_amount:.2f}\")\n",
    "    print(f\"Total amount to pay: ${purchase_amount - discount_amount:.2f}\")\n",
    "else:\n",
    "    print(\"No discount available.\")\n",
    "    print(f\"Total amount to pay: ${purchase_amount:.2f}\")\n"
   ]
  },
  {
   "cell_type": "markdown",
   "id": "29484ea0",
   "metadata": {},
   "source": [
    "9.Write a Python program to check if a number is within a specified range using if-else."
   ]
  },
  {
   "cell_type": "code",
   "execution_count": 3,
   "id": "fe1454dd",
   "metadata": {},
   "outputs": [
    {
     "name": "stdout",
     "output_type": "stream",
     "text": [
      "Enter a number: 15\n",
      "15.0 is within the specified range of 10 to 50.\n"
     ]
    }
   ],
   "source": [
    "# Get the number from the user\n",
    "number = float(input(\"Enter a number: \"))\n",
    "\n",
    "# Define the specified range\n",
    "min_range = 10\n",
    "max_range = 50\n",
    "\n",
    "# Check if the number is within the specified range\n",
    "if number >= min_range and number <= max_range:\n",
    "    print(f\"{number} is within the specified range of {min_range} to {max_range}.\")\n",
    "else:\n",
    "    print(f\"{number} is outside the specified range of {min_range} to {max_range}.\")\n"
   ]
  },
  {
   "cell_type": "markdown",
   "id": "68d8b3fc",
   "metadata": {},
   "source": [
    "10.Create a Python program that determines the grade of a student based on their score using if-else."
   ]
  },
  {
   "cell_type": "code",
   "execution_count": 7,
   "id": "00d02592",
   "metadata": {},
   "outputs": [
    {
     "name": "stdout",
     "output_type": "stream",
     "text": [
      "Enter the student's score: 85\n",
      "The student's grade is: B\n"
     ]
    }
   ],
   "source": [
    "# Get the student's score as input\n",
    "score = float(input(\"Enter the student's score: \"))\n",
    "\n",
    "# Define the grade boundaries\n",
    "A_grade = 90\n",
    "B_grade = 80\n",
    "C_grade = 70\n",
    "D_grade = 60\n",
    "\n",
    "# Determine the grade based on the score\n",
    "if score >= A_grade:\n",
    "    grade = \"A\"\n",
    "elif score >= B_grade:\n",
    "    grade = \"B\"\n",
    "elif score >= C_grade:\n",
    "    grade = \"C\"\n",
    "elif score >= D_grade:\n",
    "    grade = \"D\"\n",
    "else:\n",
    "    grade = \"F\"\n",
    "\n",
    "# Display the grade\n",
    "print(f\"The student's grade is: {grade}\")\n"
   ]
  },
  {
   "cell_type": "markdown",
   "id": "2af27988",
   "metadata": {},
   "source": [
    "11.Write a Python program to check if a string is empty or not using if-else."
   ]
  },
  {
   "cell_type": "code",
   "execution_count": 1,
   "id": "7296a168",
   "metadata": {},
   "outputs": [
    {
     "name": "stdout",
     "output_type": "stream",
     "text": [
      "Enter a string: hello\n",
      "The string is not empty.\n"
     ]
    }
   ],
   "source": [
    "# Input a string from the user\n",
    "input_string = input(\"Enter a string: \")\n",
    "\n",
    "# Check if the string is empty\n",
    "if len(input_string) == 0:\n",
    "    print(\"The string is empty.\")\n",
    "else:\n",
    "    print(\"The string is not empty.\")\n"
   ]
  },
  {
   "cell_type": "markdown",
   "id": "74362bb5",
   "metadata": {},
   "source": [
    "12.Create a Python program that identifies the type of a triangle (e.g., equilateral, isosceles, or scalene) based on input values using if-else."
   ]
  },
  {
   "cell_type": "code",
   "execution_count": 3,
   "id": "a81bbdc9",
   "metadata": {},
   "outputs": [
    {
     "name": "stdout",
     "output_type": "stream",
     "text": [
      "Enter the length of the first side: 5\n",
      "Enter the length of the second side: 5\n",
      "Enter the length of the third side: 5\n",
      "It's an equilateral triangle.\n"
     ]
    }
   ],
   "source": [
    "# Input the lengths of the three sides of the triangle\n",
    "side1 = float(input(\"Enter the length of the first side: \"))\n",
    "side2 = float(input(\"Enter the length of the second side: \"))\n",
    "side3 = float(input(\"Enter the length of the third side: \"))\n",
    "\n",
    "# Check if it's a valid triangle\n",
    "if side1 + side2 > side3 and side1 + side3 > side2 and side2 + side3 > side1:\n",
    "    # Check for the type of triangle\n",
    "    if side1 == side2 == side3:\n",
    "        print(\"It's an equilateral triangle.\")\n",
    "    elif side1 == side2 or side1 == side3 or side2 == side3:\n",
    "        print(\"It's an isosceles triangle.\")\n",
    "    else:\n",
    "        print(\"It's a scalene triangle.\")\n",
    "else:\n",
    "    print(\"It's not a valid triangle.\")\n"
   ]
  },
  {
   "cell_type": "markdown",
   "id": "7a68b83b",
   "metadata": {},
   "source": [
    "13.Write a Python program to determine the day of the week based on a user-provided number using if-else.\n"
   ]
  },
  {
   "cell_type": "code",
   "execution_count": 4,
   "id": "edf03b65",
   "metadata": {},
   "outputs": [
    {
     "name": "stdout",
     "output_type": "stream",
     "text": [
      "Enter a number (1-7) to determine the day of the week: 5\n",
      "The day of the week is Friday.\n"
     ]
    }
   ],
   "source": [
    "# Input a number from the user\n",
    "day_number = int(input(\"Enter a number (1-7) to determine the day of the week: \"))\n",
    "\n",
    "# Check the number and determine the day of the week\n",
    "if day_number == 1:\n",
    "    day = \"Monday\"\n",
    "elif day_number == 2:\n",
    "    day = \"Tuesday\"\n",
    "elif day_number == 3:\n",
    "    day = \"Wednesday\"\n",
    "elif day_number == 4:\n",
    "    day = \"Thursday\"\n",
    "elif day_number == 5:\n",
    "    day = \"Friday\"\n",
    "elif day_number == 6:\n",
    "    day = \"Saturday\"\n",
    "elif day_number == 7:\n",
    "    day = \"Sunday\"\n",
    "else:\n",
    "    day = \"Invalid input. Please enter a number between 1 and 7.\"\n",
    "\n",
    "# Print the result\n",
    "print(f\"The day of the week is {day}.\")\n"
   ]
  },
  {
   "cell_type": "markdown",
   "id": "f5c60862",
   "metadata": {},
   "source": [
    "14.Create a Python program that checks if a given year is a leap year using both if-else and a function"
   ]
  },
  {
   "cell_type": "code",
   "execution_count": 5,
   "id": "424873c7",
   "metadata": {},
   "outputs": [
    {
     "name": "stdout",
     "output_type": "stream",
     "text": [
      "Enter a year: 1996\n",
      "1996 is a leap year.\n"
     ]
    }
   ],
   "source": [
    "# Function to check if a year is a leap year\n",
    "def is_leap_year(year):\n",
    "    if (year % 4 == 0 and year % 100 != 0) or (year % 400 == 0):\n",
    "        return True\n",
    "    else:\n",
    "        return False\n",
    "\n",
    "# Input a year from the user\n",
    "year = int(input(\"Enter a year: \"))\n",
    "\n",
    "# Check if it's a leap year using the function\n",
    "if is_leap_year(year):\n",
    "    print(f\"{year} is a leap year.\")\n",
    "else:\n",
    "    print(f\"{year} is not a leap year.\")\n"
   ]
  },
  {
   "cell_type": "markdown",
   "id": "c3b7d1ea",
   "metadata": {},
   "source": [
    "15.How do you use the \"assert\" statement in Python to add debugging checks within if-else blocks?\n"
   ]
  },
  {
   "cell_type": "code",
   "execution_count": 6,
   "id": "3b2b9456",
   "metadata": {},
   "outputs": [
    {
     "name": "stdout",
     "output_type": "stream",
     "text": [
      "Result: 5.0\n"
     ]
    }
   ],
   "source": [
    "def divide(a, b):\n",
    "    assert b != 0, \"Division by zero is not allowed\"\n",
    "    return a / b\n",
    "\n",
    "try:\n",
    "    result = divide(10, 2)\n",
    "    print(\"Result:\", result)\n",
    "except AssertionError as e:\n",
    "    print(\"AssertionError:\", e)\n"
   ]
  },
  {
   "cell_type": "markdown",
   "id": "5c932074",
   "metadata": {},
   "source": [
    "16.Create a Python program that determines the eligibility of a person for a senior citizen discount based on age using if-else.\n"
   ]
  },
  {
   "cell_type": "code",
   "execution_count": 7,
   "id": "bfa444b0",
   "metadata": {},
   "outputs": [
    {
     "name": "stdout",
     "output_type": "stream",
     "text": [
      "Enter your age: 25\n",
      "You are not eligible for a senior citizen discount.\n"
     ]
    }
   ],
   "source": [
    "# Input the age of the person\n",
    "age = int(input(\"Enter your age: \"))\n",
    "\n",
    "# Define the age threshold for senior citizen discount\n",
    "senior_citizen_age = 60\n",
    "\n",
    "# Check if the person is eligible for a senior citizen discount\n",
    "if age >= senior_citizen_age:\n",
    "    print(\"You are eligible for a senior citizen discount.\")\n",
    "else:\n",
    "    print(\"You are not eligible for a senior citizen discount.\")\n"
   ]
  },
  {
   "cell_type": "markdown",
   "id": "51cae03b",
   "metadata": {},
   "source": [
    "17.Write a Python program to categorize a given character as uppercase, lowercase, or neither using if-else."
   ]
  },
  {
   "cell_type": "code",
   "execution_count": 10,
   "id": "04fdee8a",
   "metadata": {},
   "outputs": [
    {
     "name": "stdout",
     "output_type": "stream",
     "text": [
      "enter the string: HELLO\n",
      "the character is upper\n"
     ]
    }
   ],
   "source": [
    "str = input(\"enter the string: \")\n",
    "if(str.isupper()):\n",
    "    print(\"the character is upper\")\n",
    "elif(str.islower()):\n",
    "    print(\"the character is lower\")\n",
    "else:\n",
    "    print(\"neither uppercase nor lowercase\")\n",
    "    "
   ]
  },
  {
   "cell_type": "markdown",
   "id": "4b7a10c3",
   "metadata": {},
   "source": [
    "18.Write a Python program to determine the roots of a quadratic equation using if-else.\n"
   ]
  },
  {
   "cell_type": "code",
   "execution_count": 13,
   "id": "df8bd0af",
   "metadata": {},
   "outputs": [
    {
     "name": "stdout",
     "output_type": "stream",
     "text": [
      "Enter the coefficient a: 2\n",
      "Enter the coefficient b: 1\n",
      "Enter the coefficient c: 1\n",
      "Complex roots: Root1 = -0.25 + 0.6614378277661477i, Root2 = -0.25 - 0.6614378277661477i\n"
     ]
    }
   ],
   "source": [
    "import math\n",
    "\n",
    "# Input coefficients a, b, and c from the user\n",
    "a = float(input(\"Enter the coefficient a: \"))\n",
    "b = float(input(\"Enter the coefficient b: \"))\n",
    "c = float(input(\"Enter the coefficient c: \"))\n",
    "\n",
    "# Calculate the discriminant\n",
    "discriminant = b**2 - 4*a*c\n",
    "\n",
    "# Check the discriminant to determine the roots\n",
    "if discriminant > 0:\n",
    "    root1 = (-b + math.sqrt(discriminant)) / (2*a)\n",
    "    root2 = (-b - math.sqrt(discriminant)) / (2*a)\n",
    "    print(f\"Two real and distinct roots: Root1 = {root1}, Root2 = {root2}\")\n",
    "elif discriminant == 0:\n",
    "    root = -b / (2*a)\n",
    "    print(f\"One real root: Root = {root}\")\n",
    "else:\n",
    "    real_part = -b / (2*a)\n",
    "    imaginary_part = math.sqrt(abs(discriminant)) / (2*a)\n",
    "    print(f\"Complex roots: Root1 = {real_part} + {imaginary_part}i, Root2 = {real_part} - {imaginary_part}i\")\n"
   ]
  },
  {
   "cell_type": "markdown",
   "id": "e757734a",
   "metadata": {},
   "source": [
    "19.Create a Python program that checks if a given year is a century year or not using if-else.\n"
   ]
  },
  {
   "cell_type": "code",
   "execution_count": 14,
   "id": "bd8c255b",
   "metadata": {},
   "outputs": [
    {
     "name": "stdout",
     "output_type": "stream",
     "text": [
      "enter the year: 2000\n",
      "it is a century year\n"
     ]
    }
   ],
   "source": [
    "year = int(input(\"enter the year: \"))\n",
    "if(year%100 == 0):\n",
    "    print(\"it is a century year\")\n",
    "else:\n",
    "    print(\"not a century year\")"
   ]
  },
  {
   "cell_type": "markdown",
   "id": "139b0049",
   "metadata": {},
   "source": [
    "20.Write a Python program to determine if a given number is a perfect square using if-else.\n"
   ]
  },
  {
   "cell_type": "code",
   "execution_count": 16,
   "id": "5ea13b22",
   "metadata": {},
   "outputs": [
    {
     "name": "stdout",
     "output_type": "stream",
     "text": [
      "Enter a number: 16\n",
      "16 is a perfect square.\n"
     ]
    }
   ],
   "source": [
    "# Input a number from the user\n",
    "number = int(input(\"Enter a number: \"))\n",
    "\n",
    "# Check if the number is a perfect square\n",
    "if number < 0:\n",
    "    print(\"Not a perfect square (negative number)\")\n",
    "else:\n",
    "    square_root = int(number**0.5)\n",
    "    if square_root * square_root == number:\n",
    "        print(f\"{number} is a perfect square.\")\n",
    "    else:\n",
    "        print(f\"{number} is not a perfect square.\")\n"
   ]
  },
  {
   "cell_type": "markdown",
   "id": "d55c444d",
   "metadata": {},
   "source": [
    "21.Explain the purpose of the \"continue\" and \"break\" statements within if-else loops.\n"
   ]
  },
  {
   "cell_type": "code",
   "execution_count": 20,
   "id": "c7463efe",
   "metadata": {},
   "outputs": [
    {
     "name": "stdout",
     "output_type": "stream",
     "text": [
      "1\n",
      "2\n",
      "4\n",
      "5\n"
     ]
    }
   ],
   "source": [
    "#continue statement allow to use same loop but after skipping an itteration\n",
    "for i in range(1, 6):\n",
    "    if i == 3:\n",
    "        continue  # Skip iteration 3\n",
    "    print(i)\n"
   ]
  },
  {
   "cell_type": "code",
   "execution_count": 19,
   "id": "8e827acb",
   "metadata": {},
   "outputs": [
    {
     "name": "stdout",
     "output_type": "stream",
     "text": [
      "1\n",
      "2\n"
     ]
    }
   ],
   "source": [
    "#break will exit the loop \n",
    "i = 1\n",
    "while i <= 5:\n",
    "    if i == 3:\n",
    "        break  # Exit the loop when i is 3\n",
    "    print(i)\n",
    "    i += 1\n"
   ]
  },
  {
   "cell_type": "markdown",
   "id": "b36ad7d3",
   "metadata": {},
   "source": [
    "22.Create a Python program that calculates the BMI (Body Mass Index) of a person based on their weight and height using if-else.\n"
   ]
  },
  {
   "cell_type": "code",
   "execution_count": 3,
   "id": "c5da18f7",
   "metadata": {},
   "outputs": [
    {
     "name": "stdout",
     "output_type": "stream",
     "text": [
      "Enter your weight (in kilograms): 70\n",
      "Enter your height (in meters): 1.725\n",
      "Your BMI is: 23.52\n",
      "You are in the category: Normal Weight\n"
     ]
    }
   ],
   "source": [
    "# Input weight and height from the user\n",
    "weight = float(input(\"Enter your weight (in kilograms): \"))\n",
    "height = float(input(\"Enter your height (in meters): \"))\n",
    "\n",
    "# Calculate the BMI\n",
    "bmi = weight / (height ** 2)\n",
    "\n",
    "# Determine the BMI category\n",
    "if bmi < 18.5:\n",
    "    category = \"Underweight\"\n",
    "elif 18.5 <= bmi < 24.9:\n",
    "    category = \"Normal Weight\"\n",
    "elif 25 <= bmi < 29.9:\n",
    "    category = \"Overweight\"\n",
    "else:\n",
    "    category = \"Obese\"\n",
    "\n",
    "# Display the BMI and category\n",
    "print(f\"Your BMI is: {bmi:.2f}\")\n",
    "print(f\"You are in the category: {category}\")\n"
   ]
  },
  {
   "cell_type": "markdown",
   "id": "f3fc1457",
   "metadata": {},
   "source": [
    "23.How can you use the \"filter()\" function with if-else statements to filter elements from a list?\n"
   ]
  },
  {
   "cell_type": "code",
   "execution_count": 4,
   "id": "7d12e238",
   "metadata": {},
   "outputs": [
    {
     "name": "stdout",
     "output_type": "stream",
     "text": [
      "Even numbers: [2, 4, 6, 8, 10]\n"
     ]
    }
   ],
   "source": [
    "# Define a list of numbers\n",
    "numbers = [1, 2, 3, 4, 5, 6, 7, 8, 9, 10]\n",
    "\n",
    "# Define a filtering function that uses if-else statements\n",
    "def is_even(number):\n",
    "    if number % 2 == 0:\n",
    "        return True\n",
    "    else:\n",
    "        return False\n",
    "\n",
    "# Use the filter() function to filter even numbers from the list\n",
    "even_numbers = list(filter(is_even, numbers))\n",
    "\n",
    "# Print the filtered result\n",
    "print(\"Even numbers:\", even_numbers)\n",
    "\n"
   ]
  },
  {
   "cell_type": "markdown",
   "id": "d061ade2",
   "metadata": {},
   "source": [
    "24.Write a Python program to determine if a given number is prime or not using if-else."
   ]
  },
  {
   "cell_type": "code",
   "execution_count": 8,
   "id": "5caf99f2",
   "metadata": {},
   "outputs": [
    {
     "name": "stdout",
     "output_type": "stream",
     "text": [
      "enter the number: 16\n",
      "following number is not a prime number\n"
     ]
    }
   ],
   "source": [
    "num = int(input(\"enter the number: \"))\n",
    "is_prime = True\n",
    "for i in range(2,int((num**0.5)+1)):\n",
    "    if(num%i == 0):\n",
    "        is_prime = False\n",
    "    \n",
    "if(is_prime == True):\n",
    "    print(\"following number is a prime number\")\n",
    "else:\n",
    "    print(\"following number is not a prime number\")\n",
    "    "
   ]
  },
  {
   "cell_type": "markdown",
   "id": "c7437cdc",
   "metadata": {},
   "source": [
    "Map "
   ]
  },
  {
   "cell_type": "markdown",
   "id": "d8ce364f",
   "metadata": {},
   "source": [
    "1.Explain the purpose of the `map()` function in Python and provide an example of how it can be used to apply a function to each element of an iterable.\n"
   ]
  },
  {
   "cell_type": "code",
   "execution_count": 9,
   "id": "5ecd777b",
   "metadata": {},
   "outputs": [
    {
     "data": {
      "text/plain": [
       "[3, 4, 5, 6, 7, 8, 91]"
      ]
     },
     "execution_count": 9,
     "metadata": {},
     "output_type": "execute_result"
    }
   ],
   "source": [
    "#map function is used when we need to apply same operation on each element of a list.\n",
    "#map(function that need to be mapped , iterables that is used to map function)\n",
    "#example\n",
    "l = [1,2,3,4,5,6,89]\n",
    "list(map(lambda a: a+2,l))"
   ]
  },
  {
   "cell_type": "markdown",
   "id": "f0b4c013",
   "metadata": {},
   "source": [
    "2.Write a Python program that uses the `map()` function to square each element of a list of numbers."
   ]
  },
  {
   "cell_type": "code",
   "execution_count": 10,
   "id": "0b74b6dd",
   "metadata": {},
   "outputs": [
    {
     "data": {
      "text/plain": [
       "[4, 16, 25, 36]"
      ]
     },
     "execution_count": 10,
     "metadata": {},
     "output_type": "execute_result"
    }
   ],
   "source": [
    "list1 = [2,4,5,6]\n",
    "def square_number(num):\n",
    "    square = num*num\n",
    "    return square\n",
    "\n",
    "list(map(square_number,list1))"
   ]
  },
  {
   "cell_type": "markdown",
   "id": "ec470b0b",
   "metadata": {},
   "source": [
    "3.How does the `map()` function differ from a list comprehension in Python, and when would you choose one over the other?"
   ]
  },
  {
   "cell_type": "code",
   "execution_count": 11,
   "id": "b0459ed2",
   "metadata": {},
   "outputs": [],
   "source": [
    "numbers = [1, 2, 3, 4, 5]\n",
    "squared_numbers = map(lambda x: x**2, numbers)\n",
    "squared_numbers_list = list(squared_numbers)\n"
   ]
  },
  {
   "cell_type": "code",
   "execution_count": 12,
   "id": "de672230",
   "metadata": {},
   "outputs": [],
   "source": [
    "#map() is for applying a function to each element in an iterable and returns a map object.\n",
    "#List comprehensions create a new list by applying an expression to each element and return a list.\n",
    "#Use map() for complex transformations or applying the same function to multiple iterables\n",
    "#Use list comprehensions for simple expressions or filtering based on conditions."
   ]
  },
  {
   "cell_type": "markdown",
   "id": "99dd8f61",
   "metadata": {},
   "source": [
    "4.Create a Python program that uses the `map()` function to convert a list of names to uppercase."
   ]
  },
  {
   "cell_type": "code",
   "execution_count": 16,
   "id": "af607745",
   "metadata": {},
   "outputs": [
    {
     "data": {
      "text/plain": [
       "['HELLO', 'NAME', 'ADDRESS', 'PYTHON']"
      ]
     },
     "execution_count": 16,
     "metadata": {},
     "output_type": "execute_result"
    }
   ],
   "source": [
    "list1 = [\"hello\",\"name\",\"address\",\"python\"]\n",
    "def upper_case(str):\n",
    "    upper = str.upper()\n",
    "    return upper\n",
    "\n",
    "list(map(upper_case,list1))"
   ]
  },
  {
   "cell_type": "markdown",
   "id": "d0335d35",
   "metadata": {},
   "source": [
    "5.Write a Python program that uses the `map()` function to calculate the length of each word in a list of strings."
   ]
  },
  {
   "cell_type": "code",
   "execution_count": 17,
   "id": "22224b44",
   "metadata": {},
   "outputs": [
    {
     "data": {
      "text/plain": [
       "[5, 4, 7, 6]"
      ]
     },
     "execution_count": 17,
     "metadata": {},
     "output_type": "execute_result"
    }
   ],
   "source": [
    "list1 = [\"hello\",\"name\",\"address\",\"python\"]\n",
    "def length(str):\n",
    "    strength = len(str)\n",
    "    return strength\n",
    "\n",
    "list(map(length,list1))"
   ]
  },
  {
   "cell_type": "markdown",
   "id": "581e75b8",
   "metadata": {},
   "source": [
    "6.How can you use the `map()` function to apply a custom function to elements of multiple lists simultaneously in Python?"
   ]
  },
  {
   "cell_type": "code",
   "execution_count": 18,
   "id": "da4501ea",
   "metadata": {},
   "outputs": [
    {
     "name": "stdout",
     "output_type": "stream",
     "text": [
      "[12, 15, 18]\n"
     ]
    }
   ],
   "source": [
    "# Define a custom function that takes multiple arguments\n",
    "def custom_function(x, y, z):\n",
    "    return x + y + z\n",
    "\n",
    "# Define multiple lists\n",
    "list1 = [1, 2, 3]\n",
    "list2 = [4, 5, 6]\n",
    "list3 = [7, 8, 9]\n",
    "\n",
    "# Use map() to apply the custom function to the lists\n",
    "result = list(map(custom_function, list1, list2, list3))\n",
    "\n",
    "print(result)\n"
   ]
  },
  {
   "cell_type": "markdown",
   "id": "8be82d3a",
   "metadata": {},
   "source": [
    "7.Create a Python program that uses `map()` to convert a list of temperatures from Celsius to Fahrenheit."
   ]
  },
  {
   "cell_type": "code",
   "execution_count": 19,
   "id": "4a482dbf",
   "metadata": {},
   "outputs": [
    {
     "name": "stdout",
     "output_type": "stream",
     "text": [
      "0°C is equal to 32.00°F\n",
      "10°C is equal to 50.00°F\n",
      "25°C is equal to 77.00°F\n",
      "37°C is equal to 98.60°F\n",
      "100°C is equal to 212.00°F\n"
     ]
    }
   ],
   "source": [
    "# Function to convert Celsius to Fahrenheit\n",
    "def celsius_to_fahrenheit(celsius):\n",
    "    return (celsius * 9/5) + 32\n",
    "\n",
    "# List of temperatures in Celsius\n",
    "celsius_temperatures = [0, 10, 25, 37, 100]\n",
    "\n",
    "# Use map() to convert temperatures to Fahrenheit\n",
    "fahrenheit_temperatures = list(map(celsius_to_fahrenheit, celsius_temperatures))\n",
    "\n",
    "# Print the converted temperatures\n",
    "for c, f in zip(celsius_temperatures, fahrenheit_temperatures):\n",
    "    print(f\"{c}°C is equal to {f:.2f}°F\")\n"
   ]
  },
  {
   "cell_type": "markdown",
   "id": "b3f375a9",
   "metadata": {},
   "source": [
    "8.Write a Python program that uses the `map()` function to round each element of a list of floating-point numbers to the nearest integer."
   ]
  },
  {
   "cell_type": "code",
   "execution_count": 20,
   "id": "4ea8b000",
   "metadata": {},
   "outputs": [
    {
     "name": "stdout",
     "output_type": "stream",
     "text": [
      "3.5 rounded to the nearest integer is 4\n",
      "7.2 rounded to the nearest integer is 7\n",
      "4.8 rounded to the nearest integer is 5\n",
      "1.1 rounded to the nearest integer is 1\n",
      "9.7 rounded to the nearest integer is 10\n"
     ]
    }
   ],
   "source": [
    "# List of floating-point numbers\n",
    "float_numbers = [3.5, 7.2, 4.8, 1.1, 9.7]\n",
    "\n",
    "# Function to round a floating-point number to the nearest integer\n",
    "def round_to_integer(number):\n",
    "    return round(number)\n",
    "\n",
    "# Use map() to round the numbers to the nearest integer\n",
    "rounded_numbers = list(map(round_to_integer, float_numbers))\n",
    "\n",
    "# Print the rounded numbers\n",
    "for original, rounded in zip(float_numbers, rounded_numbers):\n",
    "    print(f\"{original} rounded to the nearest integer is {rounded}\")\n"
   ]
  },
  {
   "cell_type": "markdown",
   "id": "9df63743",
   "metadata": {},
   "source": [
    "Reduce "
   ]
  },
  {
   "cell_type": "markdown",
   "id": "9764275f",
   "metadata": {},
   "source": [
    "1.What is the `reduce()` function in Python, and what module should you import to use it? Provide an example of its basic usage."
   ]
  },
  {
   "cell_type": "code",
   "execution_count": 21,
   "id": "08e1c584",
   "metadata": {},
   "outputs": [
    {
     "name": "stdout",
     "output_type": "stream",
     "text": [
      "Result: 15\n"
     ]
    }
   ],
   "source": [
    "#The reduce() function in Python is used for aggregating elements in an iterable using a specified function. \n",
    "#It's part of the functools module, so you need to import this module to use the reduce() function.\n",
    "from functools import reduce\n",
    "\n",
    "# Define a list of numbers\n",
    "numbers = [1, 2, 3, 4, 5]\n",
    "\n",
    "# Define a custom function to add two numbers\n",
    "def custom_function(x, y):\n",
    "    return x + y\n",
    "\n",
    "# Use reduce() to apply the custom function to the list\n",
    "result = reduce(custom_function, numbers)\n",
    "\n",
    "print(\"Result:\", result)\n"
   ]
  },
  {
   "cell_type": "markdown",
   "id": "32ba8031",
   "metadata": {},
   "source": [
    "2.Write a Python program that uses the `reduce()` function to find the product of all elements in a list."
   ]
  },
  {
   "cell_type": "code",
   "execution_count": 23,
   "id": "20c9272a",
   "metadata": {},
   "outputs": [
    {
     "data": {
      "text/plain": [
       "120"
      ]
     },
     "execution_count": 23,
     "metadata": {},
     "output_type": "execute_result"
    }
   ],
   "source": [
    "list1 = [2,3,4,5]\n",
    "def multiplication(a,b):\n",
    "    c = a*b\n",
    "    return c\n",
    "\n",
    "reduce(multiplication,list1)\n",
    "    "
   ]
  },
  {
   "cell_type": "markdown",
   "id": "01ad7da5",
   "metadata": {},
   "source": [
    "3.Create a Python program that uses `reduce()` to find the maximum element in a list of numbers."
   ]
  },
  {
   "cell_type": "code",
   "execution_count": 24,
   "id": "53fd7046",
   "metadata": {},
   "outputs": [
    {
     "data": {
      "text/plain": [
       "19"
      ]
     },
     "execution_count": 24,
     "metadata": {},
     "output_type": "execute_result"
    }
   ],
   "source": [
    "list2 = [12,11,5,19,17]\n",
    "def max(a,b):\n",
    "    if(a>b):\n",
    "        return a \n",
    "    else:\n",
    "        return b\n",
    "\n",
    "reduce(max,list2)"
   ]
  },
  {
   "cell_type": "markdown",
   "id": "80fb12cf",
   "metadata": {},
   "source": [
    "4.How can you use the `reduce()` function to concatenate a list of strings into a single string?\n"
   ]
  },
  {
   "cell_type": "code",
   "execution_count": 27,
   "id": "836ba595",
   "metadata": {},
   "outputs": [
    {
     "data": {
      "text/plain": [
       "'Emailaddress'"
      ]
     },
     "execution_count": 27,
     "metadata": {},
     "output_type": "execute_result"
    }
   ],
   "source": [
    "list2 = [\"Email\",\"address\"]\n",
    "def concatenate_string(str1,str2):\n",
    "    concatenated = str1+str2\n",
    "    return concatenated\n",
    "\n",
    "reduce(concatenate_string,list2)\n",
    "    "
   ]
  },
  {
   "cell_type": "markdown",
   "id": "a8a91fdc",
   "metadata": {},
   "source": [
    "5.Write a Python program that calculates the factorial of a number using the `reduce()` function."
   ]
  },
  {
   "cell_type": "code",
   "execution_count": 29,
   "id": "35e7a8a9",
   "metadata": {},
   "outputs": [
    {
     "name": "stdout",
     "output_type": "stream",
     "text": [
      "Enter a number: 5\n",
      "The factorial of 5 is 120\n"
     ]
    }
   ],
   "source": [
    "\n",
    "# Define a custom function to calculate the factorial of a number\n",
    "def factorial(x, y):\n",
    "    return x * y\n",
    "\n",
    "# Input a number from the user\n",
    "number = int(input(\"Enter a number: \"))\n",
    "\n",
    "# Create a list of numbers from 1 to the input number\n",
    "numbers = list(range(1, number + 1))\n",
    "\n",
    "# Use reduce() to calculate the factorial\n",
    "result = reduce(factorial, numbers, 1)  # Initialize with 1 to handle the case of 0!\n",
    "\n",
    "# Print the result\n",
    "print(f\"The factorial of {number} is {result}\")"
   ]
  },
  {
   "cell_type": "markdown",
   "id": "96fa0c39",
   "metadata": {},
   "source": [
    "6.Create a Python program that uses `reduce()` to find the GCD (Greatest Common Divisor) of a list of numbers"
   ]
  },
  {
   "cell_type": "code",
   "execution_count": 30,
   "id": "595b7e5d",
   "metadata": {},
   "outputs": [
    {
     "name": "stdout",
     "output_type": "stream",
     "text": [
      "The GCD of [24, 36, 48, 60] is 12\n"
     ]
    }
   ],
   "source": [
    "from functools import reduce\n",
    "import math\n",
    "\n",
    "# List of numbers for which you want to find the GCD\n",
    "numbers = [24, 36, 48, 60]\n",
    "\n",
    "# Use reduce() with the math.gcd() function to find the GCD\n",
    "gcd_result = reduce(math.gcd, numbers)\n",
    "\n",
    "# Print the GCD\n",
    "print(f\"The GCD of {numbers} is {gcd_result}\")\n"
   ]
  },
  {
   "cell_type": "markdown",
   "id": "0b887c23",
   "metadata": {},
   "source": [
    "7.Write a Python program that uses the `reduce()` function to find the sum of the digits of a given number."
   ]
  },
  {
   "cell_type": "code",
   "execution_count": 46,
   "id": "883f3231",
   "metadata": {},
   "outputs": [
    {
     "name": "stdout",
     "output_type": "stream",
     "text": [
      "Enter a number: 45\n",
      "The sum of the digits in 45 is 9\n"
     ]
    }
   ],
   "source": [
    "\n",
    "# Define a custom function to sum the digits\n",
    "def sum_digits(x, y):\n",
    "    return int(x) + int(y)\n",
    "\n",
    "# Input a number from the user\n",
    "number = input(\"Enter a number: \")\n",
    "\n",
    "# Use reduce() to find the sum of the digits\n",
    "digit_sum = reduce(sum_digits, number, 0)\n",
    "\n",
    "# Print the sum of the digits\n",
    "print(f\"The sum of the digits in {number} is {digit_sum}\")\n",
    "\n",
    "    \n",
    "    "
   ]
  },
  {
   "cell_type": "markdown",
   "id": "866d91ff",
   "metadata": {},
   "source": [
    "Recursion:-"
   ]
  },
  {
   "cell_type": "markdown",
   "id": "cb402894",
   "metadata": {},
   "source": [
    "1.Explain the concept of recursion in Python. How does it differ from iteration?"
   ]
  },
  {
   "cell_type": "code",
   "execution_count": 47,
   "id": "9fec81e6",
   "metadata": {},
   "outputs": [],
   "source": [
    "#Recursion is a programming concept where a function calls itself to solve a problem.\n",
    "#teration is a repetitive process using loops, while recursion is a function calling itself."
   ]
  },
  {
   "cell_type": "markdown",
   "id": "6e4f9421",
   "metadata": {},
   "source": [
    "2.Write a Python program to calculate the factorial of a number using recursion."
   ]
  },
  {
   "cell_type": "code",
   "execution_count": 48,
   "id": "3c0ff1e0",
   "metadata": {},
   "outputs": [],
   "source": [
    "def factorial(num):\n",
    "    if(num == 0):\n",
    "        return 1\n",
    "    else:\n",
    "        return num*factorial(num-1)"
   ]
  },
  {
   "cell_type": "code",
   "execution_count": 49,
   "id": "c8aa0d23",
   "metadata": {},
   "outputs": [
    {
     "data": {
      "text/plain": [
       "120"
      ]
     },
     "execution_count": 49,
     "metadata": {},
     "output_type": "execute_result"
    }
   ],
   "source": [
    "factorial(5)"
   ]
  },
  {
   "cell_type": "markdown",
   "id": "4de51bf9",
   "metadata": {},
   "source": [
    "3.Create a recursive Python function to find the nth Fibonacci number"
   ]
  },
  {
   "cell_type": "code",
   "execution_count": 54,
   "id": "17ea1dbb",
   "metadata": {},
   "outputs": [],
   "source": [
    "def fibbonacci(n):\n",
    "    if(n==0):\n",
    "        return 0\n",
    "    elif(n==1):\n",
    "        return 1\n",
    "    else:\n",
    "        return fibbonacci(n-1)+fibbonacci(n-2)"
   ]
  },
  {
   "cell_type": "code",
   "execution_count": 56,
   "id": "f1144dfa",
   "metadata": {},
   "outputs": [
    {
     "data": {
      "text/plain": [
       "3"
      ]
     },
     "execution_count": 56,
     "metadata": {},
     "output_type": "execute_result"
    }
   ],
   "source": [
    "fibbonacci(4)"
   ]
  },
  {
   "cell_type": "markdown",
   "id": "03f25f04",
   "metadata": {},
   "source": [
    "4.Write a recursive Python function to calculate the sum of all elements in a list."
   ]
  },
  {
   "cell_type": "code",
   "execution_count": 3,
   "id": "1a4eb49b",
   "metadata": {},
   "outputs": [
    {
     "name": "stdout",
     "output_type": "stream",
     "text": [
      "Sum of elements in the list: 15\n"
     ]
    }
   ],
   "source": [
    "def recursive_sum(lst):\n",
    "    # Base case: If the list is empty, return 0\n",
    "    if not lst:\n",
    "        return 0\n",
    "    else:\n",
    "        # Recursive case: Add the first element to the sum of the rest of the list\n",
    "        return lst[0] + recursive_sum(lst[1:])\n",
    "\n",
    "# Example usage:\n",
    "my_list = [1, 2, 3, 4, 5]\n",
    "result = recursive_sum(my_list)\n",
    "print(\"Sum of elements in the list:\", result)\n"
   ]
  },
  {
   "cell_type": "markdown",
   "id": "6b7a7a04",
   "metadata": {},
   "source": [
    "5.How can you prevent a recursive function from running indefinitely, causing a stack overflow error?"
   ]
  },
  {
   "cell_type": "code",
   "execution_count": 4,
   "id": "64cc8ff2",
   "metadata": {},
   "outputs": [
    {
     "name": "stdout",
     "output_type": "stream",
     "text": [
      "Factorial of 5 is: 120\n"
     ]
    }
   ],
   "source": [
    "#To prevent a recursive function from running indefinitely and causing a stack overflow error,\n",
    "#you should ensure that your recursive function has a proper termination condition or base case.\n",
    "#example:\n",
    "def factorial(n):\n",
    "    # Base case\n",
    "    if n == 0:\n",
    "        return 1\n",
    "    # Recursive case\n",
    "    else:\n",
    "        return n * factorial(n - 1)\n",
    "\n",
    "# Example usage:\n",
    "result = factorial(5)\n",
    "print(\"Factorial of 5 is:\", result)\n"
   ]
  },
  {
   "cell_type": "markdown",
   "id": "ae7ec8f6",
   "metadata": {},
   "source": [
    "6.Create a recursive Python function to find the greatest common divisor (GCD) of two numbers using the Euclidean algorithm."
   ]
  },
  {
   "cell_type": "code",
   "execution_count": 1,
   "id": "15fa81cd",
   "metadata": {},
   "outputs": [],
   "source": [
    "def gcd_euclidian(a,b):\n",
    "    if(b==0):\n",
    "        return a\n",
    "    else:\n",
    "        return gcd_euclidian(b,a%b)\n",
    "    "
   ]
  },
  {
   "cell_type": "code",
   "execution_count": 2,
   "id": "aba96e40",
   "metadata": {},
   "outputs": [
    {
     "data": {
      "text/plain": [
       "6"
      ]
     },
     "execution_count": 2,
     "metadata": {},
     "output_type": "execute_result"
    }
   ],
   "source": [
    "gcd_euclidian(48,18)"
   ]
  },
  {
   "cell_type": "markdown",
   "id": "7454412f",
   "metadata": {},
   "source": [
    "7.Write a recursive Python function to reverse a string"
   ]
  },
  {
   "cell_type": "code",
   "execution_count": 1,
   "id": "8db63bb1",
   "metadata": {},
   "outputs": [
    {
     "name": "stdout",
     "output_type": "stream",
     "text": [
      "Original string: Hello, World!\n",
      "Reversed string: !dlroW ,olleH\n"
     ]
    }
   ],
   "source": [
    "def reverse_string_recursive(input_string):\n",
    "    # Base case\n",
    "    if len(input_string) == 0:\n",
    "        return input_string\n",
    "    else:\n",
    "        # Recursive case\n",
    "        first_char = input_string[0]\n",
    "        rest_of_string = input_string[1:]\n",
    "        reversed_rest = reverse_string_recursive(rest_of_string)\n",
    "        return reversed_rest + first_char\n",
    "\n",
    "# Example usage:\n",
    "original_string = \"Hello, World!\"\n",
    "reversed_string = reverse_string_recursive(original_string)\n",
    "print(\"Original string:\", original_string)\n",
    "print(\"Reversed string:\", reversed_string)\n",
    "\n"
   ]
  },
  {
   "cell_type": "markdown",
   "id": "f105da36",
   "metadata": {},
   "source": [
    "8.Create a recursive Python function to calculate the power of a number (x^n)."
   ]
  },
  {
   "cell_type": "code",
   "execution_count": 2,
   "id": "fbb51f6f",
   "metadata": {},
   "outputs": [
    {
     "name": "stdout",
     "output_type": "stream",
     "text": [
      "2^3 = 8\n"
     ]
    }
   ],
   "source": [
    "def power(x, n):\n",
    "    # Base case\n",
    "    if n == 0:\n",
    "        return 1\n",
    "    # Recursive case for n > 0\n",
    "    elif n > 0:\n",
    "        return x * power(x, n - 1)\n",
    "    # Recursive case for n < 0 (negative exponent)\n",
    "    else:\n",
    "        return 1 / (x * power(x, -n - 1))\n",
    "\n",
    "# Example usage:\n",
    "base = 2\n",
    "exponent = 3\n",
    "result = power(base, exponent)\n",
    "print(f\"{base}^{exponent} = {result}\")\n"
   ]
  },
  {
   "cell_type": "markdown",
   "id": "dec48511",
   "metadata": {},
   "source": [
    "9.Write a recursive Python function to find all permutations of a given string."
   ]
  },
  {
   "cell_type": "code",
   "execution_count": 3,
   "id": "30dcea73",
   "metadata": {},
   "outputs": [
    {
     "name": "stdout",
     "output_type": "stream",
     "text": [
      "abc\n",
      "acb\n",
      "bac\n",
      "bca\n",
      "cab\n",
      "cba\n"
     ]
    }
   ],
   "source": [
    "def get_permutations(input_string):\n",
    "    # Base case: If the string has only one character or is empty, return it as a single-item list.\n",
    "    if len(input_string) <= 1:\n",
    "        return [input_string]\n",
    "\n",
    "    # Recursive case\n",
    "    permutations = []\n",
    "    for char in input_string:\n",
    "        # For each character in the string, create permutations of the remaining characters\n",
    "        remaining_chars = input_string.replace(char, \"\", 1)\n",
    "        remaining_permutations = get_permutations(remaining_chars)\n",
    "\n",
    "        # Add the current character to the beginning of each permutation of the remaining characters\n",
    "        for perm in remaining_permutations:\n",
    "            permutations.append(char + perm)\n",
    "\n",
    "    return permutations\n",
    "\n",
    "# Example usage:\n",
    "input_str = \"abc\"\n",
    "permutations = get_permutations(input_str)\n",
    "for perm in permutations:\n",
    "    print(perm)\n"
   ]
  },
  {
   "cell_type": "markdown",
   "id": "b8b7adbc",
   "metadata": {},
   "source": [
    "10.Write a recursive Python function to check if a string is a palindrome"
   ]
  },
  {
   "cell_type": "code",
   "execution_count": 4,
   "id": "3f9bee54",
   "metadata": {},
   "outputs": [
    {
     "name": "stdout",
     "output_type": "stream",
     "text": [
      "Is \"racecar\" a palindrome? True\n",
      "Is \"hello\" a palindrome? False\n"
     ]
    }
   ],
   "source": [
    "def is_palindrome(input_string):\n",
    "    # Base case: If the string has 0 or 1 characters, it is a palindrome.\n",
    "    if len(input_string) <= 1:\n",
    "        return True\n",
    "\n",
    "    # Check if the first and last characters are the same\n",
    "    first_char = input_string[0]\n",
    "    last_char = input_string[-1]\n",
    "\n",
    "    if first_char != last_char:\n",
    "        return False\n",
    "\n",
    "    # Recursive case: Check if the substring without the first and last characters is a palindrome.\n",
    "    return is_palindrome(input_string[1:-1])\n",
    "\n",
    "# Example usage:\n",
    "palindrome_str = \"racecar\"\n",
    "non_palindrome_str = \"hello\"\n",
    "\n",
    "print(f'Is \"{palindrome_str}\" a palindrome? {is_palindrome(palindrome_str)}')\n",
    "print(f'Is \"{non_palindrome_str}\" a palindrome? {is_palindrome(non_palindrome_str)}')\n"
   ]
  },
  {
   "cell_type": "markdown",
   "id": "18610959",
   "metadata": {},
   "source": [
    "11.Create a recursive Python function to generate all possible combinations of a list of elements."
   ]
  },
  {
   "cell_type": "code",
   "execution_count": 5,
   "id": "e0c8af47",
   "metadata": {},
   "outputs": [
    {
     "name": "stdout",
     "output_type": "stream",
     "text": [
      "[]\n",
      "[3]\n",
      "[2]\n",
      "[3, 2]\n",
      "[1]\n",
      "[3, 1]\n",
      "[2, 1]\n",
      "[3, 2, 1]\n"
     ]
    }
   ],
   "source": [
    "def generate_combinations(elements):\n",
    "    if not elements:\n",
    "        return [[]]\n",
    "\n",
    "    first_element = elements[0]\n",
    "    rest_elements = elements[1:]\n",
    "    combinations_without_first = generate_combinations(rest_elements)\n",
    "    combinations_with_first = []\n",
    "\n",
    "    for combo in combinations_without_first:\n",
    "        combinations_with_first.append(combo + [first_element])\n",
    "\n",
    "    return combinations_without_first + combinations_with_first\n",
    "\n",
    "# Example usage:\n",
    "my_list = [1, 2, 3]\n",
    "combinations = generate_combinations(my_list)\n",
    "for combo in combinations:\n",
    "    print(combo)\n"
   ]
  },
  {
   "cell_type": "markdown",
   "id": "a52bdf26",
   "metadata": {},
   "source": [
    "Filter"
   ]
  },
  {
   "cell_type": "markdown",
   "id": "05f450a1",
   "metadata": {},
   "source": [
    "1.Explain the purpose of the `filter()` function in Python and provide an example of how it can be used to filter elements from an iterable."
   ]
  },
  {
   "cell_type": "code",
   "execution_count": 9,
   "id": "49d2785e",
   "metadata": {},
   "outputs": [
    {
     "data": {
      "text/plain": [
       "[1, 3, 5, 7]"
      ]
     },
     "execution_count": 9,
     "metadata": {},
     "output_type": "execute_result"
    }
   ],
   "source": [
    "#filter is used to filter out specefix feature from a list.\n",
    "#example: filter out all odd numbers from list.\n",
    "list5 = [1,2,3,4,5,6,7]\n",
    "list(filter(lambda a: a%2 != 0,list5))"
   ]
  },
  {
   "cell_type": "markdown",
   "id": "fe11d080",
   "metadata": {},
   "source": [
    "2.Write a Python program that uses the `filter()` function to select even numbers from a list of integers."
   ]
  },
  {
   "cell_type": "code",
   "execution_count": 10,
   "id": "42b6fc85",
   "metadata": {},
   "outputs": [
    {
     "data": {
      "text/plain": [
       "[2, 4, 6]"
      ]
     },
     "execution_count": 10,
     "metadata": {},
     "output_type": "execute_result"
    }
   ],
   "source": [
    "list5 = [1,2,3,4,5,6,7]\n",
    "list(filter(lambda a: a%2 == 0,list5))"
   ]
  },
  {
   "cell_type": "markdown",
   "id": "8a711a64",
   "metadata": {},
   "source": [
    "3.Create a Python program that uses the `filter()` function to select names that start with a specific letter from a list of strings."
   ]
  },
  {
   "cell_type": "code",
   "execution_count": 12,
   "id": "25d53521",
   "metadata": {},
   "outputs": [
    {
     "name": "stdout",
     "output_type": "stream",
     "text": [
      "Names that start with 'C':\n",
      "Charlie\n"
     ]
    }
   ],
   "source": [
    "# List of names\n",
    "names = [\"Alice\", \"Bob\", \"Charlie\", \"David\", \"Eva\", \"Frank\"]\n",
    "\n",
    "# Function to filter names starting with a specific letter\n",
    "def starts_with_letter(letter, name):\n",
    "    return name.startswith(letter)\n",
    "\n",
    "# Specific letter to filter with\n",
    "start_letter = \"C\"\n",
    "\n",
    "# Use filter to select names that start with the specific letter\n",
    "filtered_names = filter(lambda name: starts_with_letter(start_letter, name), names)\n",
    "\n",
    "# Convert the filtered result to a list (if needed)\n",
    "filtered_names_list = list(filtered_names)\n",
    "\n",
    "# Print the filtered names\n",
    "print(f\"Names that start with '{start_letter}':\")\n",
    "for name in filtered_names_list:\n",
    "    print(name)\n"
   ]
  },
  {
   "cell_type": "markdown",
   "id": "6a74e614",
   "metadata": {},
   "source": [
    "4.Write a Python program that uses the `filter()` function to select prime numbers from a list of integers."
   ]
  },
  {
   "cell_type": "code",
   "execution_count": 13,
   "id": "a8b49b25",
   "metadata": {},
   "outputs": [
    {
     "name": "stdout",
     "output_type": "stream",
     "text": [
      "Prime numbers in the list:\n",
      "[2, 7, 13, 17, 23]\n"
     ]
    }
   ],
   "source": [
    "# Function to check if a number is prime\n",
    "def is_prime(number):\n",
    "    if number <= 1:\n",
    "        return False\n",
    "    if number <= 3:\n",
    "        return True\n",
    "    if number % 2 == 0 or number % 3 == 0:\n",
    "        return False\n",
    "\n",
    "    i = 5\n",
    "    while i * i <= number:\n",
    "        if number % i == 0 or number % (i + 2) == 0:\n",
    "            return False\n",
    "        i += 6\n",
    "\n",
    "    return True\n",
    "\n",
    "# List of integers\n",
    "numbers = [2, 7, 12, 13, 17, 21, 23]\n",
    "\n",
    "# Use filter to select prime numbers\n",
    "prime_numbers = filter(is_prime, numbers)\n",
    "\n",
    "# Convert the filtered result to a list (if needed)\n",
    "prime_numbers_list = list(prime_numbers)\n",
    "\n",
    "# Print the prime numbers\n",
    "print(\"Prime numbers in the list:\")\n",
    "print(prime_numbers_list)\n"
   ]
  },
  {
   "cell_type": "markdown",
   "id": "e91c3047",
   "metadata": {},
   "source": [
    "5.How can you use the `filter()` function to remove None values from a list in Python?"
   ]
  },
  {
   "cell_type": "code",
   "execution_count": 14,
   "id": "6081213d",
   "metadata": {},
   "outputs": [
    {
     "name": "stdout",
     "output_type": "stream",
     "text": [
      "List with None values removed:\n",
      "[1, 2, 3, 4, 5]\n"
     ]
    }
   ],
   "source": [
    "# List with None values\n",
    "my_list = [1, None, 2, None, 3, None, 4, 5, None]\n",
    "\n",
    "# Function to filter out None values\n",
    "def filter_none(value):\n",
    "    return value is not None\n",
    "\n",
    "# Use filter to remove None values\n",
    "filtered_list = filter(filter_none, my_list)\n",
    "\n",
    "# Convert the filtered result to a list\n",
    "filtered_list = list(filtered_list)\n",
    "\n",
    "# Print the filtered list\n",
    "print(\"List with None values removed:\")\n",
    "print(filtered_list)\n"
   ]
  },
  {
   "cell_type": "markdown",
   "id": "1029b6a4",
   "metadata": {},
   "source": [
    "6.Create a Python program that uses `filter()` to select words longer than a certain length from a list of strings."
   ]
  },
  {
   "cell_type": "code",
   "execution_count": 15,
   "id": "ebe77755",
   "metadata": {},
   "outputs": [
    {
     "name": "stdout",
     "output_type": "stream",
     "text": [
      "Words longer than 6 characters:\n",
      "['elderberry']\n"
     ]
    }
   ],
   "source": [
    "# List of strings\n",
    "words = [\"apple\", \"banana\", \"cherry\", \"date\", \"elderberry\", \"fig\", \"grape\"]\n",
    "\n",
    "# Minimum word length to filter with\n",
    "min_length = 6\n",
    "\n",
    "# Function to filter words longer than a certain length\n",
    "def is_long_word(word):\n",
    "    return len(word) > min_length\n",
    "\n",
    "# Use filter to select words longer than the specified length\n",
    "long_words = filter(is_long_word, words)\n",
    "\n",
    "# Convert the filtered result to a list (if needed)\n",
    "long_words_list = list(long_words)\n",
    "\n",
    "# Print the long words\n",
    "print(f\"Words longer than {min_length} characters:\")\n",
    "print(long_words_list)\n"
   ]
  },
  {
   "cell_type": "markdown",
   "id": "141b4c49",
   "metadata": {},
   "source": [
    "7.Write a Python program that uses the `filter()` function to select elements greater than a specified threshold from a list of values."
   ]
  },
  {
   "cell_type": "code",
   "execution_count": 16,
   "id": "d9344683",
   "metadata": {},
   "outputs": [
    {
     "name": "stdout",
     "output_type": "stream",
     "text": [
      "Elements greater than 15:\n",
      "[20, 30, 25]\n"
     ]
    }
   ],
   "source": [
    "# List of values\n",
    "values = [10, 20, 5, 15, 30, 7, 25]\n",
    "\n",
    "# Threshold value to filter with\n",
    "threshold = 15\n",
    "\n",
    "# Use filter with a lambda function to select elements greater than the specified threshold\n",
    "filtered_values = filter(lambda value: value > threshold, values)\n",
    "\n",
    "# Convert the filtered result to a list (if needed)\n",
    "filtered_values_list = list(filtered_values)\n",
    "\n",
    "# Print the filtered elements\n",
    "print(f\"Elements greater than {threshold}:\")\n",
    "print(filtered_values_list)\n"
   ]
  },
  {
   "cell_type": "markdown",
   "id": "703f1de4",
   "metadata": {},
   "source": [
    "Basics of functions"
   ]
  },
  {
   "cell_type": "markdown",
   "id": "b70884f8",
   "metadata": {},
   "source": [
    "1.What is a function in Python, and why is it used?"
   ]
  },
  {
   "cell_type": "code",
   "execution_count": 17,
   "id": "1da442af",
   "metadata": {},
   "outputs": [],
   "source": [
    "#In Python, a function is a block of organized, reusable code that performs a specific task or a set of related tasks. \n",
    "#Functions provide a way to structure your code and make it more modular, allowing you to break your program into smaller, manageable, and reusable pieces."
   ]
  },
  {
   "cell_type": "markdown",
   "id": "1a127419",
   "metadata": {},
   "source": [
    "2.How do you define a function in Python? Provide an example.\n"
   ]
  },
  {
   "cell_type": "code",
   "execution_count": 18,
   "id": "9b67c8a8",
   "metadata": {},
   "outputs": [
    {
     "name": "stdout",
     "output_type": "stream",
     "text": [
      "Hello, Alice!\n"
     ]
    }
   ],
   "source": [
    "#To define a function in Python, use the def keyword followed by the function name, parentheses for optional parameters, a colon, and an indented block of code.\n",
    "#Here's a short example:\n",
    "def greet(name):\n",
    "    return f\"Hello, {name}!\"\n",
    "\n",
    "# Function call\n",
    "message = greet(\"Alice\")\n",
    "print(message)  # Output: \"Hello, Alice!\"\n"
   ]
  },
  {
   "cell_type": "markdown",
   "id": "562dbb1c",
   "metadata": {},
   "source": [
    "3.Explain the difference between a function definition and a function call."
   ]
  },
  {
   "cell_type": "code",
   "execution_count": 19,
   "id": "7efa6c20",
   "metadata": {},
   "outputs": [],
   "source": [
    "#A function definition is where you create a blueprint for a function, specifying its name, parameters, and code to be executed.\n",
    "#It does not run the code; it defines what the function does when called.\n",
    "#A function call is when you use the defined function with specific arguments to execute the code within the function.\n",
    "#It triggers the function's execution and returns the result."
   ]
  },
  {
   "cell_type": "markdown",
   "id": "fb7d9557",
   "metadata": {},
   "source": [
    "4.Write a Python program that defines a function to calculate the sum of two numbers and then calls the function."
   ]
  },
  {
   "cell_type": "code",
   "execution_count": 20,
   "id": "b865816c",
   "metadata": {},
   "outputs": [],
   "source": [
    "def sum(a,b):\n",
    "    sum = a+b\n",
    "    return sum\n"
   ]
  },
  {
   "cell_type": "code",
   "execution_count": 21,
   "id": "a7ffee31",
   "metadata": {},
   "outputs": [
    {
     "data": {
      "text/plain": [
       "21"
      ]
     },
     "execution_count": 21,
     "metadata": {},
     "output_type": "execute_result"
    }
   ],
   "source": [
    "sum(15,6)"
   ]
  },
  {
   "cell_type": "markdown",
   "id": "7521b217",
   "metadata": {},
   "source": [
    "5.What is a function signature, and what information does it typically include?"
   ]
  },
  {
   "cell_type": "code",
   "execution_count": 22,
   "id": "575f5588",
   "metadata": {},
   "outputs": [],
   "source": [
    "#A function signature, also known as a function prototype, is a declaration that provides essential information about a function's interface without detailing its implementation\n",
    "#it includes function name,return type,parameters"
   ]
  },
  {
   "cell_type": "markdown",
   "id": "21dc5ea8",
   "metadata": {},
   "source": [
    "6.Create a Python function that takes two arguments and returns their product."
   ]
  },
  {
   "cell_type": "code",
   "execution_count": 23,
   "id": "890a44fd",
   "metadata": {},
   "outputs": [],
   "source": [
    "def multiply(a,b):\n",
    "    product = a*b\n",
    "    return product"
   ]
  },
  {
   "cell_type": "code",
   "execution_count": 25,
   "id": "b0f6677f",
   "metadata": {},
   "outputs": [
    {
     "data": {
      "text/plain": [
       "30"
      ]
     },
     "execution_count": 25,
     "metadata": {},
     "output_type": "execute_result"
    }
   ],
   "source": [
    "multiply(15,2)"
   ]
  },
  {
   "cell_type": "markdown",
   "id": "4c3afaff",
   "metadata": {},
   "source": [
    "Function Parameters and Arguments:"
   ]
  },
  {
   "cell_type": "markdown",
   "id": "6c3bc0ab",
   "metadata": {},
   "source": [
    "1.Explain the concepts of formal parameters and actual arguments in Python functions."
   ]
  },
  {
   "cell_type": "code",
   "execution_count": 27,
   "id": "399ce6ec",
   "metadata": {},
   "outputs": [],
   "source": [
    "#lets understand with example\n",
    "def add(x, y):  # Here, 'x' and 'y' are formal parameters.\n",
    "    result = x + y\n",
    "    return result\n",
    "\n",
    "result = add(3, 5)  # Here, '3' and '5' are actual arguments passed to the 'add' function.\n",
    "\n"
   ]
  },
  {
   "cell_type": "code",
   "execution_count": 29,
   "id": "8e0e55ee",
   "metadata": {},
   "outputs": [
    {
     "name": "stdout",
     "output_type": "stream",
     "text": [
      "8\n"
     ]
    }
   ],
   "source": [
    "print(result)"
   ]
  },
  {
   "cell_type": "markdown",
   "id": "b685be74",
   "metadata": {},
   "source": [
    "2.Write a Python program that defines a function with default argument values."
   ]
  },
  {
   "cell_type": "code",
   "execution_count": 31,
   "id": "58fcdb76",
   "metadata": {},
   "outputs": [
    {
     "name": "stdout",
     "output_type": "stream",
     "text": [
      "Hello, Alice!\n",
      "Hi, Bob!\n"
     ]
    }
   ],
   "source": [
    "def greet(name, greeting=\"Hello\"):\n",
    "    return f\"{greeting}, {name}!\"\n",
    "\n",
    "# Example usage:\n",
    "message1 = greet(\"Alice\")  # Uses the default greeting \"Hello\"\n",
    "message2 = greet(\"Bob\", \"Hi\")  # Overrides the default greeting with \"Hi\"\n",
    "\n",
    "print(message1)  # Output: \"Hello, Alice!\"\n",
    "print(message2)  # Output: \"Hi, Bob!\"\n"
   ]
  },
  {
   "cell_type": "markdown",
   "id": "a40db242",
   "metadata": {},
   "source": [
    "3.How do you use keyword arguments in Python function calls? Provide an example.\n"
   ]
  },
  {
   "cell_type": "code",
   "execution_count": 32,
   "id": "1a71a98b",
   "metadata": {},
   "outputs": [
    {
     "name": "stdout",
     "output_type": "stream",
     "text": [
      "Hello, Alice!\n",
      "Hi, Bob!\n"
     ]
    },
    {
     "data": {
      "text/plain": [
       "''"
      ]
     },
     "execution_count": 32,
     "metadata": {},
     "output_type": "execute_result"
    }
   ],
   "source": [
    "def greet(name, greeting=\"Hello\"):\n",
    "    return f\"{greeting}, {name}!\"\n",
    "\n",
    "# Using keyword arguments to call the 'greet' function\n",
    "message1 = greet(name=\"Alice\")  # 'name' is specified as a keyword argument.\n",
    "message2 = greet(greeting=\"Hi\", name=\"Bob\")  # Both 'greeting' and 'name' are specified as keyword arguments.\n",
    "\n",
    "print(message1)  # Output: \"Hello, Alice!\"\n",
    "print(message2)  # Output: \"Hi, Bob!\"\n"
   ]
  },
  {
   "cell_type": "markdown",
   "id": "e110700a",
   "metadata": {},
   "source": [
    "4.Create a Python function that accepts a variable number of arguments and calculates their sum."
   ]
  },
  {
   "cell_type": "code",
   "execution_count": 33,
   "id": "cfe15640",
   "metadata": {},
   "outputs": [
    {
     "name": "stdout",
     "output_type": "stream",
     "text": [
      "Result 1: 6\n",
      "Result 2: 150\n"
     ]
    }
   ],
   "source": [
    "def calculate_sum(*args):\n",
    "    total = 0\n",
    "    for num in args:\n",
    "        total += num\n",
    "    return total\n",
    "\n",
    "# Example usage:\n",
    "result1 = calculate_sum(1, 2, 3)\n",
    "result2 = calculate_sum(10, 20, 30, 40, 50)\n",
    "\n",
    "print(\"Result 1:\", result1)  # Output: Result 1: 6\n",
    "print(\"Result 2:\", result2)  # Output: Result 2: 150\n"
   ]
  },
  {
   "cell_type": "markdown",
   "id": "f8af3445",
   "metadata": {},
   "source": [
    "5.What is the purpose of the `*args` and `**kwargs` syntax in function parameter lists?\n"
   ]
  },
  {
   "cell_type": "code",
   "execution_count": 35,
   "id": "475605c1",
   "metadata": {},
   "outputs": [],
   "source": [
    "def calculate_sum(*args):\n",
    "    total = 0\n",
    "    for num in args:\n",
    "        total += num\n",
    "    return total\n"
   ]
  },
  {
   "cell_type": "code",
   "execution_count": 36,
   "id": "72c49d19",
   "metadata": {},
   "outputs": [],
   "source": [
    "def print_details(**kwargs):\n",
    "    for key, value in kwargs.items():\n",
    "        print(f\"{key}: {value}\")\n"
   ]
  },
  {
   "cell_type": "markdown",
   "id": "117f6f5a",
   "metadata": {},
   "source": [
    "Return Values and Scoping:"
   ]
  },
  {
   "cell_type": "markdown",
   "id": "b2eebb0e",
   "metadata": {},
   "source": [
    "1.Describe the role of the `return` statement in Python functions and provide examples.\n"
   ]
  },
  {
   "cell_type": "code",
   "execution_count": 37,
   "id": "46ef38f7",
   "metadata": {},
   "outputs": [],
   "source": [
    "#The return statement in Python functions serves to provide a result back to the caller, exit the function, and communicate outcomes.\n",
    "#It allows functions to produce values that can be used elsewhere in the code. "
   ]
  },
  {
   "cell_type": "markdown",
   "id": "9f128480",
   "metadata": {},
   "source": [
    "2.Explain the concept of variable scope in Python, including local and global variables."
   ]
  },
  {
   "cell_type": "code",
   "execution_count": 38,
   "id": "caacf00a",
   "metadata": {},
   "outputs": [],
   "source": [
    "#Variable scope in Python defines where a variable is accessible.\n",
    "#Local variables are limited to the function or block where they're defined.\n",
    "#Global variables are accessible from anywhere in the program."
   ]
  },
  {
   "cell_type": "markdown",
   "id": "54a1100e",
   "metadata": {},
   "source": [
    "3.Write a Python program that demonstrates the use of global variables within functions."
   ]
  },
  {
   "cell_type": "code",
   "execution_count": 39,
   "id": "66e15730",
   "metadata": {},
   "outputs": [
    {
     "name": "stdout",
     "output_type": "stream",
     "text": [
      "Inside function1: 100\n",
      "Inside function3: 200\n"
     ]
    }
   ],
   "source": [
    "# Define a global variable\n",
    "global_variable = 100\n",
    "\n",
    "# Function 1: Accessing the global variable\n",
    "def function1():\n",
    "    print(\"Inside function1:\", global_variable)\n",
    "\n",
    "# Function 2: Modifying the global variable\n",
    "def function2():\n",
    "    global global_variable  # Declare the global variable to modify it\n",
    "    global_variable = 200\n",
    "\n",
    "# Function 3: Accessing the modified global variable\n",
    "def function3():\n",
    "    print(\"Inside function3:\", global_variable)\n",
    "\n",
    "# Call the functions\n",
    "function1()  # Output: Inside function1: 100\n",
    "function2()\n",
    "function3()  # Output: Inside function3: 200\n"
   ]
  },
  {
   "cell_type": "markdown",
   "id": "950e73c0",
   "metadata": {},
   "source": [
    "4.Create a Python function that calculates the factorial of a number and returns it.\n"
   ]
  },
  {
   "cell_type": "code",
   "execution_count": 40,
   "id": "136a0878",
   "metadata": {},
   "outputs": [
    {
     "name": "stdout",
     "output_type": "stream",
     "text": [
      "The factorial of 5 is 120\n"
     ]
    }
   ],
   "source": [
    "def factorial(n):\n",
    "    if n == 0:\n",
    "        return 1\n",
    "    else:\n",
    "        return n * factorial(n - 1)\n",
    "\n",
    "# Example usage:\n",
    "num = 5\n",
    "result = factorial(num)\n",
    "print(f\"The factorial of {num} is {result}\")  # Output: The factorial of 5 is 120\n"
   ]
  },
  {
   "cell_type": "markdown",
   "id": "f24d4dd3",
   "metadata": {},
   "source": [
    "5.How can you access variables defined outside a function from within the function?"
   ]
  },
  {
   "cell_type": "code",
   "execution_count": 41,
   "id": "b1956f01",
   "metadata": {},
   "outputs": [
    {
     "name": "stdout",
     "output_type": "stream",
     "text": [
      "Accessing global_variable from the function: 42\n"
     ]
    }
   ],
   "source": [
    "#direct access\n",
    "global_variable = 42\n",
    "\n",
    "def access_global_variable():\n",
    "    print(\"Accessing global_variable from the function:\", global_variable)\n",
    "\n",
    "access_global_variable()\n"
   ]
  },
  {
   "cell_type": "code",
   "execution_count": 42,
   "id": "cc133115",
   "metadata": {},
   "outputs": [
    {
     "name": "stdout",
     "output_type": "stream",
     "text": [
      "Modified global_variable: 52\n"
     ]
    }
   ],
   "source": [
    "#declare as global\n",
    "global_variable = 42\n",
    "\n",
    "def modify_global_variable():\n",
    "    global global_variable  # Declare the variable as global\n",
    "    global_variable += 10\n",
    "\n",
    "modify_global_variable()\n",
    "print(\"Modified global_variable:\", global_variable)\n"
   ]
  },
  {
   "cell_type": "markdown",
   "id": "49399dd4",
   "metadata": {},
   "source": [
    "Lambda Functions and Higher-Order Functions:"
   ]
  },
  {
   "cell_type": "markdown",
   "id": "11aef315",
   "metadata": {},
   "source": [
    "1.What are lambda functions in Python, and when are they typically used?\n"
   ]
  },
  {
   "cell_type": "code",
   "execution_count": 43,
   "id": "b0a47548",
   "metadata": {},
   "outputs": [],
   "source": [
    "#the syntax of lambda function is\n",
    "# lambda arguments: expression\n",
    "#Lambda functions in Python are small, anonymous functions that are defined using the lambda keyword. \n"
   ]
  },
  {
   "cell_type": "markdown",
   "id": "b82a695f",
   "metadata": {},
   "source": [
    "2.Write a Python program that uses lambda functions to sort a list of tuples based on the second element."
   ]
  },
  {
   "cell_type": "code",
   "execution_count": 44,
   "id": "2a78f2bb",
   "metadata": {},
   "outputs": [
    {
     "name": "stdout",
     "output_type": "stream",
     "text": [
      "Sorted students based on age:\n",
      "('Bob', 18)\n",
      "('David', 22)\n",
      "('Alice', 25)\n",
      "('Charlie', 30)\n"
     ]
    }
   ],
   "source": [
    "# List of tuples\n",
    "students = [(\"Alice\", 25), (\"Bob\", 18), (\"Charlie\", 30), (\"David\", 22)]\n",
    "\n",
    "# Sort the list of tuples based on the second element using a lambda function\n",
    "sorted_students = sorted(students, key=lambda student: student[1])\n",
    "\n",
    "# Print the sorted list\n",
    "print(\"Sorted students based on age:\")\n",
    "for student in sorted_students:\n",
    "    print(student)\n"
   ]
  },
  {
   "cell_type": "markdown",
   "id": "7d9d6692",
   "metadata": {},
   "source": [
    "3.Explain the concept of higher-order functions in Python, and provide an example."
   ]
  },
  {
   "cell_type": "code",
   "execution_count": 45,
   "id": "ee85fb92",
   "metadata": {},
   "outputs": [
    {
     "name": "stdout",
     "output_type": "stream",
     "text": [
      "25\n",
      "14\n"
     ]
    }
   ],
   "source": [
    "def apply(func, value):\n",
    "    return func(value)\n",
    "\n",
    "# Example usage\n",
    "def square(x):\n",
    "    return x ** 2\n",
    "\n",
    "def double(x):\n",
    "    return x * 2\n",
    "\n",
    "result1 = apply(square, 5)  # Calls the 'square' function\n",
    "result2 = apply(double, 7)  # Calls the 'double' function\n",
    "\n",
    "print(result1)  # Output: 25\n",
    "print(result2)  # Output: 14\n"
   ]
  },
  {
   "cell_type": "markdown",
   "id": "f4e7f9c9",
   "metadata": {},
   "source": [
    "4.Create a Python function that takes a list of numbers and a function as arguments, applying the function to each element in the list."
   ]
  },
  {
   "cell_type": "code",
   "execution_count": 46,
   "id": "9a04610c",
   "metadata": {},
   "outputs": [
    {
     "name": "stdout",
     "output_type": "stream",
     "text": [
      "Squared Numbers: [1, 4, 9, 16, 25]\n",
      "Doubled Numbers: [2, 4, 6, 8, 10]\n"
     ]
    }
   ],
   "source": [
    "def apply_function_to_list(numbers, func):\n",
    "    result = []\n",
    "    for number in numbers:\n",
    "        result.append(func(number))\n",
    "    return result\n",
    "\n",
    "# Example usage\n",
    "def square(x):\n",
    "    return x ** 2\n",
    "\n",
    "def double(x):\n",
    "    return x * 2\n",
    "\n",
    "numbers = [1, 2, 3, 4, 5]\n",
    "\n",
    "# Apply the 'square' function to each element in the list\n",
    "squared_numbers = apply_function_to_list(numbers, square)\n",
    "print(\"Squared Numbers:\", squared_numbers)  # Output: [1, 4, 9, 16, 25]\n",
    "\n",
    "# Apply the 'double' function to each element in the list\n",
    "doubled_numbers = apply_function_to_list(numbers, double)\n",
    "print(\"Doubled Numbers:\", doubled_numbers)  # Output: [2, 4, 6, 8,\n"
   ]
  },
  {
   "cell_type": "markdown",
   "id": "44b1e82b",
   "metadata": {},
   "source": [
    "Built-in Functions:"
   ]
  },
  {
   "cell_type": "markdown",
   "id": "43df58e3",
   "metadata": {},
   "source": [
    "1.Describe the role of built-in functions like `len()`, `max()`, and `min()` in Python."
   ]
  },
  {
   "cell_type": "code",
   "execution_count": 49,
   "id": "8b65e75d",
   "metadata": {},
   "outputs": [
    {
     "name": "stdout",
     "output_type": "stream",
     "text": [
      "5\n"
     ]
    }
   ],
   "source": [
    "#len is used to find  length of a string\n",
    "#max used to find maximum element in a list or group\n",
    "#min ised to find minimum\n",
    "#example of len\n",
    "my_list = [1, 2, 3, 4, 5]\n",
    "length = len(my_list)  # length is 5\n",
    "print(length)"
   ]
  },
  {
   "cell_type": "code",
   "execution_count": 50,
   "id": "e58494da",
   "metadata": {},
   "outputs": [
    {
     "name": "stdout",
     "output_type": "stream",
     "text": [
      "9\n"
     ]
    }
   ],
   "source": [
    "#example of max\n",
    "numbers = [5, 2, 8, 1, 9]\n",
    "largest = max(numbers)  # largest is 9\n",
    "print(largest)"
   ]
  },
  {
   "cell_type": "code",
   "execution_count": 52,
   "id": "bec270c3",
   "metadata": {},
   "outputs": [
    {
     "name": "stdout",
     "output_type": "stream",
     "text": [
      "1\n"
     ]
    }
   ],
   "source": [
    "#example of min\n",
    "numbers = [5, 2, 8, 1, 9]\n",
    "smallest = min(numbers)  # smallest is 1\n",
    "print(smallest)"
   ]
  },
  {
   "cell_type": "markdown",
   "id": "b9d6a4bd",
   "metadata": {},
   "source": [
    "2.Write a Python program that uses the `map()` function to apply a function to each element of a list."
   ]
  },
  {
   "cell_type": "code",
   "execution_count": 54,
   "id": "cc2f516b",
   "metadata": {},
   "outputs": [
    {
     "name": "stdout",
     "output_type": "stream",
     "text": [
      "Original numbers: [1, 2, 3, 4, 5]\n",
      "Doubled numbers: [2, 4, 6, 8, 10]\n"
     ]
    }
   ],
   "source": [
    "# Define a function to double a number\n",
    "def double(x):\n",
    "    return x * 2\n",
    "\n",
    "# List of numbers\n",
    "numbers = [1, 2, 3, 4, 5]\n",
    "\n",
    "# Use the map() function to double each element in the list\n",
    "doubled_numbers = list(map(double, numbers))\n",
    "\n",
    "# Print the result\n",
    "print(\"Original numbers:\", numbers)\n",
    "print(\"Doubled numbers:\", doubled_numbers)\n"
   ]
  },
  {
   "cell_type": "markdown",
   "id": "4113ea12",
   "metadata": {},
   "source": [
    "3.How does the `filter()` function work in Python, and when would you use it?"
   ]
  },
  {
   "cell_type": "code",
   "execution_count": 55,
   "id": "808c1cb1",
   "metadata": {},
   "outputs": [],
   "source": [
    "#The filter() function in Python is used to filter elements from an iterable (such as a list, tuple, or other iterable) based on a specified condition"
   ]
  },
  {
   "cell_type": "markdown",
   "id": "129d0b97",
   "metadata": {},
   "source": [
    "4.Create a Python program that uses the `reduce()` function to find the product of all elements in a list."
   ]
  },
  {
   "cell_type": "code",
   "execution_count": 57,
   "id": "09a0dee3",
   "metadata": {},
   "outputs": [
    {
     "name": "stdout",
     "output_type": "stream",
     "text": [
      "List: [1, 2, 3, 4, 5]\n",
      "Product of all elements: 120\n"
     ]
    }
   ],
   "source": [
    "from functools import reduce\n",
    "\n",
    "# Define a function to calculate the product of two numbers\n",
    "def multiply(x, y):\n",
    "    return x * y\n",
    "\n",
    "# List of numbers\n",
    "numbers = [1, 2, 3, 4, 5]\n",
    "\n",
    "# Use the reduce() function to find the product of all elements in the list\n",
    "product = reduce(multiply, numbers)\n",
    "\n",
    "# Print the result\n",
    "print(\"List:\", numbers)\n",
    "print(\"Product of all elements:\", product)\n"
   ]
  },
  {
   "cell_type": "markdown",
   "id": "b73f0faa",
   "metadata": {},
   "source": [
    "Function Documentation and Best Practices:"
   ]
  },
  {
   "cell_type": "markdown",
   "id": "5a597f62",
   "metadata": {},
   "source": [
    "1.Explain the purpose of docstrings in Python functions and how to write them."
   ]
  },
  {
   "cell_type": "code",
   "execution_count": 58,
   "id": "8a84f5f9",
   "metadata": {},
   "outputs": [],
   "source": [
    "#Docstrings in Python functions serve the purpose of providing documentation and information about the function's purpose, parameters, return values, and usage\n",
    "#They are a form of documentation that helps developers understand and use functions effectively. "
   ]
  },
  {
   "cell_type": "markdown",
   "id": "88fa7c2c",
   "metadata": {},
   "source": [
    "2.Describe some best practices for naming functions and variables in Python, including naming conventions and guidelines."
   ]
  },
  {
   "cell_type": "code",
   "execution_count": 59,
   "id": "ab565751",
   "metadata": {},
   "outputs": [],
   "source": [
    "#Naming functions and variables in Python following best practices, naming conventions, and guidelines is crucial for writing clean, readable, and maintainable code."
   ]
  }
 ],
 "metadata": {
  "kernelspec": {
   "display_name": "Python 3 (ipykernel)",
   "language": "python",
   "name": "python3"
  },
  "language_info": {
   "codemirror_mode": {
    "name": "ipython",
    "version": 3
   },
   "file_extension": ".py",
   "mimetype": "text/x-python",
   "name": "python",
   "nbconvert_exporter": "python",
   "pygments_lexer": "ipython3",
   "version": "3.9.13"
  }
 },
 "nbformat": 4,
 "nbformat_minor": 5
}
